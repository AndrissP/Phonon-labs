{
 "cells": [
  {
   "cell_type": "code",
   "execution_count": 1,
   "metadata": {},
   "outputs": [],
   "source": [
    "#%matplotlib notebook\n",
    "#%pylab qt\n",
    "#from matplotlib import pyplot as plt"
   ]
  },
  {
   "cell_type": "code",
   "execution_count": 2,
   "metadata": {},
   "outputs": [],
   "source": [
    "from matplotlib import animation, rc\n",
    "from IPython.display import HTML\n",
    "import numpy as np\n",
    "rc('animation', html='jshtml')\n"
   ]
  },
  {
   "cell_type": "markdown",
   "metadata": {},
   "source": [
    "For the purpose of checking this script alone I leave the commeted out cell bellow"
   ]
  },
  {
   "cell_type": "markdown",
   "metadata": {},
   "source": [
    "In case of debug or check can uncomment line bellow"
   ]
  },
  {
   "cell_type": "code",
   "execution_count": 15,
   "metadata": {},
   "outputs": [],
   "source": [
    "# %run -p cphonon.ipynb\n",
    "# fig\n",
    "# display(FirstBox)\n",
    "# #display(Masses)\n",
    "# display(Impurity)\n",
    "# display(ModeNrInterBox)"
   ]
  },
  {
   "cell_type": "markdown",
   "metadata": {},
   "source": [
    "Initializing values"
   ]
  },
  {
   "cell_type": "code",
   "execution_count": 8,
   "metadata": {},
   "outputs": [],
   "source": [
    "#mode=ModeNrInter.value\n",
    "if MyInteraction.result is None:\n",
    "    Vanim=V[:,0]\n",
    "    omegaAnim=omega[0]\n",
    "else:\n",
    "    Vanim=MyInteraction.result[2]\n",
    "    omegaAnim=MyInteraction.result[1]\n",
    "N=NInter.value\n",
    "bc=bcInter.value\n",
    "ModeNr=ModeNrInter.value\n",
    "M1=M1Inter.value\n",
    "M2=M2Inter.value\n",
    "Mimp=MimpInter.value\n",
    "Nimp=NimpInter.value\n",
    "C=CInter.value\n",
    "imp_enabled=imp_enabledInter.value\n",
    "omegaAnim=5 if np.abs(omegaAnim)<1e-06 else omegaAnim #Otherwise it will mant to make an infinite animation"
   ]
  },
  {
   "cell_type": "markdown",
   "metadata": {},
   "source": [
    "Dealing with the case of fixed boundary conditions and N=2. This solves the problem"
   ]
  },
  {
   "cell_type": "code",
   "execution_count": 9,
   "metadata": {},
   "outputs": [
    {
     "data": {
      "text/plain": [
       "28"
      ]
     },
     "execution_count": 9,
     "metadata": {},
     "output_type": "execute_result"
    }
   ],
   "source": [
    "try:\n",
    "    len(Vanim)\n",
    "except:\n",
    "    Vanim=[[0,0],[0,0]]\n",
    "    omegaAnim=10"
   ]
  },
  {
   "cell_type": "code",
   "execution_count": null,
   "metadata": {},
   "outputs": [],
   "source": []
  },
  {
   "cell_type": "code",
   "execution_count": 10,
   "metadata": {},
   "outputs": [],
   "source": [
    "Ampl=0.1*((M1+M2)/C)**(1/4) # don't know the reason for exactly ^(1/4)\n",
    "Vplot=np.array(np.transpose(Vanim)*Ampl)[0]  #transpose and [0] is for some stupid reasons with arrays\n",
    "\n",
    "oddAtoms = np.arange(1, N+1, 2)\n",
    "evenAtoms = np.arange(2, N+1, 2)\n",
    "allAtoms = np.arange(1, N+1)\n",
    "Vodd=Vplot[::2]\n",
    "Veven=Vplot[1::2]\n",
    "\n",
    "yodd = [0]*len(Vodd)\n",
    "yeven = [0]*len(Veven)"
   ]
  },
  {
   "cell_type": "code",
   "execution_count": 14,
   "metadata": {},
   "outputs": [
    {
     "data": {
      "text/plain": [
       "14"
      ]
     },
     "execution_count": 14,
     "metadata": {},
     "output_type": "execute_result"
    }
   ],
   "source": [
    "N//2"
   ]
  },
  {
   "cell_type": "code",
   "execution_count": 1,
   "metadata": {},
   "outputs": [
    {
     "ename": "NameError",
     "evalue": "name 'plt' is not defined",
     "output_type": "error",
     "traceback": [
      "\u001b[1;31m---------------------------------------------------------------------------\u001b[0m",
      "\u001b[1;31mNameError\u001b[0m                                 Traceback (most recent call last)",
      "\u001b[1;32m<ipython-input-1-1bf08068ee7b>\u001b[0m in \u001b[0;36m<module>\u001b[1;34m\u001b[0m\n\u001b[0;32m      1\u001b[0m \u001b[1;31m#%matplotlib tk\u001b[0m\u001b[1;33m\u001b[0m\u001b[1;33m\u001b[0m\u001b[1;33m\u001b[0m\u001b[0m\n\u001b[1;32m----> 2\u001b[1;33m \u001b[0mfig2\u001b[0m\u001b[1;33m,\u001b[0m \u001b[0max3\u001b[0m \u001b[1;33m=\u001b[0m \u001b[0mplt\u001b[0m\u001b[1;33m.\u001b[0m\u001b[0msubplots\u001b[0m\u001b[1;33m(\u001b[0m\u001b[1;33m)\u001b[0m\u001b[1;33m\u001b[0m\u001b[1;33m\u001b[0m\u001b[0m\n\u001b[0m\u001b[0;32m      3\u001b[0m \u001b[0mfig2\u001b[0m\u001b[1;33m.\u001b[0m\u001b[0mset_size_inches\u001b[0m\u001b[1;33m(\u001b[0m\u001b[1;36m10.0\u001b[0m\u001b[1;33m,\u001b[0m \u001b[1;36m1.4\u001b[0m\u001b[1;33m)\u001b[0m\u001b[1;33m\u001b[0m\u001b[1;33m\u001b[0m\u001b[0m\n\u001b[0;32m      4\u001b[0m \u001b[1;33m\u001b[0m\u001b[0m\n\u001b[0;32m      5\u001b[0m \u001b[0max3\u001b[0m\u001b[1;33m.\u001b[0m\u001b[0mset_xlim\u001b[0m\u001b[1;33m(\u001b[0m\u001b[1;33m(\u001b[0m \u001b[1;36m0.5\u001b[0m\u001b[1;33m,\u001b[0m \u001b[0mN\u001b[0m\u001b[1;33m+\u001b[0m\u001b[1;36m0.5\u001b[0m\u001b[1;33m)\u001b[0m\u001b[1;33m)\u001b[0m\u001b[1;33m\u001b[0m\u001b[1;33m\u001b[0m\u001b[0m\n",
      "\u001b[1;31mNameError\u001b[0m: name 'plt' is not defined"
     ]
    }
   ],
   "source": [
    "%%capture\n",
    "#%matplotlib tk\n",
    "fig2, ax3 = plt.subplots()\n",
    "fig2.set_size_inches(10.0, 1.4)\n",
    "\n",
    "ax3.set_xlim(( 0.5, N+0.5))\n",
    "ax3.set_ylim((-0.05, 0.05))\n",
    "#fig2.title='MyTitle'\n",
    "\n",
    "\n",
    "line,=ax3.plot([], [], 'bo', markersize=10)\n",
    "\n",
    "if M1 > M2:\n",
    "        mark1 = 11\n",
    "        mark2 = 6\n",
    "elif M1 == M2:\n",
    "        mark1 = mark2 = 6\n",
    "else:\n",
    "        mark1 = 6\n",
    "        mark2 = 11\n",
    "\n",
    "#Marker colors for masses\n",
    "if M1==M2:\n",
    "    col1, col2=\"blue\", \"blue\"\n",
    "else:\n",
    "    col1, col2=\"blue\", \"green\"\n",
    "        \n",
    "        \n",
    "#plotlays=[2]\n",
    "plotcols, markers = [col1,col2,\"white\",\"red\"], [mark1,mark2,11,(np.log(Mimp/M1+1.7)*7)] #[\"blue\",\"green\"],[mark1,mark2] \n",
    "lines = []\n",
    "for index in range(4):\n",
    "    lobj = ax3.plot([],[],'o',markersize=markers[index],color=plotcols[index])[0]\n",
    "    lines.append(lobj)\n",
    "def init():\n",
    "    for line in lines:\n",
    "        line.set_data([],[])\n",
    "    return lines\n",
    "\n",
    "ax3.set(xlabel=\"postition/a, m\", ylabel='y',title='Atomic oscilations, mode nr={}'.format(ModeNr)) # for N={}, M1={}, M2={},Minp={}.'.format(N,M1,M2,Mimp)\n",
    "\n",
    "steptick=N//15+1\n",
    "xTickArray=np.arange(0, N+2, step=steptick)\n",
    "xTickArray = xTickArray.astype('float64')\n",
    "xTickArray[0], xTickArray[-1]=0.5, N+0.5\n",
    "ax3.set_xticks(xTickArray)\n",
    "\n",
    "fig2.subplots_adjust(bottom=0.3,top=0.8)"
   ]
  },
  {
   "cell_type": "markdown",
   "metadata": {},
   "source": [
    "Note how big problems the periodic boundary conditions cause(particle can appear from the other side). Otherwise the function bellow bould have been pretty simple. Now you have to look through all the cases and change a bit the  plotting data.\n",
    "\n",
    "It still does not deal with the case when the impurity is the last particle and it should reapear on the other side. If somebody really creates such a case then congrats, u cool!"
   ]
  },
  {
   "cell_type": "code",
   "execution_count": 12,
   "metadata": {
    "scrolled": true
   },
   "outputs": [
    {
     "ename": "NameError",
     "evalue": "name 'fig2' is not defined",
     "output_type": "error",
     "traceback": [
      "\u001b[1;31m---------------------------------------------------------------------------\u001b[0m",
      "\u001b[1;31mNameError\u001b[0m                                 Traceback (most recent call last)",
      "\u001b[1;32m<ipython-input-12-6996395b2b58>\u001b[0m in \u001b[0;36m<module>\u001b[1;34m\u001b[0m\n\u001b[0;32m     22\u001b[0m \u001b[1;33m\u001b[0m\u001b[0m\n\u001b[0;32m     23\u001b[0m \u001b[1;33m\u001b[0m\u001b[0m\n\u001b[1;32m---> 24\u001b[1;33m anim = animation.FuncAnimation(fig2, animate, init_func=init,\n\u001b[0m\u001b[0;32m     25\u001b[0m                               frames=int(np.round(50/omegaAnim)), interval=4, blit=True) #frames value taken so that the film ends exatly at the end of the period\n",
      "\u001b[1;31mNameError\u001b[0m: name 'fig2' is not defined"
     ]
    }
   ],
   "source": [
    "def animate(t, *args):\n",
    "    lines[0].set_data(oddAtoms+np.cos(omegaAnim*t*0.02*2*np.pi)*Vodd, yodd)\n",
    "    lines[1].set_data(evenAtoms+np.cos(omegaAnim*t*0.02*2*np.pi)*Veven, yeven)\n",
    "    if bc==0: #periodic boundary conditions (particle can appear from the other side) causes problems\n",
    "        if np.cos(omegaAnim*t*0.02*2*np.pi)*Vodd[0]< -0.5:\n",
    "            lines[0].set_data(np.append(oddAtoms[1:],N+1)+\n",
    "                              np.cos(omegaAnim*t*0.02*2*np.pi)*np.append(Vodd[1:],Vodd[0]), yodd)\n",
    "            lines[1].set_data(evenAtoms+np.cos(omegaAnim*t*0.02*2*np.pi)*Veven, yeven)\n",
    "        elif (np.cos(omegaAnim*t*0.02*2*np.pi)*Vodd[-1]> 0.5) & (N%2) :\n",
    "            lines[0].set_data(np.append(0,oddAtoms)+\n",
    "                              np.cos(omegaAnim*t*0.02*2*np.pi)*np.append(Vodd[-1],Vodd), np.append(0,yodd)) #I don't take out the data point because it is not visible anyway\n",
    "            lines[1].set_data(evenAtoms+np.cos(omegaAnim*t*0.02*2*np.pi)*Veven, yeven)\n",
    "        elif (np.cos(omegaAnim*t*0.02*2*np.pi)*Veven[-1]> 0.5) & (N%2==0) :\n",
    "            lines[0].set_data(oddAtoms+\n",
    "                              np.cos(omegaAnim*t*0.02*2*np.pi)*Vodd, yodd) #I don't take out the data point because it is not visible anyway\n",
    "            lines[1].set_data(np.append(0,evenAtoms)+np.cos(omegaAnim*t*0.02*2*np.pi)*np.append(Veven[-1],Veven), np.append(0,yeven))\n",
    "    if imp_enabled == 1:\n",
    "        lines[2].set_data(Nimp+np.cos(omegaAnim*t*0.02*2*np.pi)*Vplot[Nimp-1],0)\n",
    "        lines[3].set_data(Nimp+np.cos(omegaAnim*t*0.02*2*np.pi)*Vplot[Nimp-1],0)\n",
    "    return (lines)\n",
    "\n",
    "\n",
    "\n",
    "anim = animation.FuncAnimation(fig2, animate, init_func=init,\n",
    "                              frames=int(np.round(50/omegaAnim)), interval=4, blit=True) #frames value taken so that the film ends exatly at the end of the period"
   ]
  },
  {
   "cell_type": "code",
   "execution_count": 86,
   "metadata": {},
   "outputs": [],
   "source": [
    "#%%time\n",
    "#HTML(anim.to_jshtml())\n",
    "#anim"
   ]
  },
  {
   "cell_type": "code",
   "execution_count": 97,
   "metadata": {},
   "outputs": [
    {
     "data": {
      "text/plain": [
       "9.125060374972142e-09"
      ]
     },
     "execution_count": 97,
     "metadata": {},
     "output_type": "execute_result"
    }
   ],
   "source": [
    "#omegaAnim"
   ]
  },
  {
   "cell_type": "code",
   "execution_count": 23,
   "metadata": {},
   "outputs": [],
   "source": [
    "#fig2"
   ]
  },
  {
   "cell_type": "code",
   "execution_count": null,
   "metadata": {},
   "outputs": [],
   "source": []
  },
  {
   "cell_type": "code",
   "execution_count": 19,
   "metadata": {},
   "outputs": [],
   "source": [
    "#arr"
   ]
  },
  {
   "cell_type": "code",
   "execution_count": null,
   "metadata": {},
   "outputs": [],
   "source": [
    "#arr[5]=0.5"
   ]
  },
  {
   "cell_type": "code",
   "execution_count": null,
   "metadata": {},
   "outputs": [],
   "source": [
    "#float(arr)"
   ]
  },
  {
   "cell_type": "code",
   "execution_count": null,
   "metadata": {},
   "outputs": [],
   "source": [
    "# from matplotlib import pyplot as plt\n",
    "# %matplotlib tk\n",
    "# %matplotlib tk\n",
    "#%%time\n",
    "#%pylab qt\n",
    "#display(HTML(anim.to_jshtml()))\n",
    "#anim"
   ]
  },
  {
   "cell_type": "code",
   "execution_count": null,
   "metadata": {},
   "outputs": [],
   "source": [
    "#out = widgets.Output(layout={'border': '1px solid black'})\n",
    "# with outp:\n",
    "#     anim\n",
    "#outp\n",
    "#anim\n"
   ]
  },
  {
   "cell_type": "code",
   "execution_count": null,
   "metadata": {},
   "outputs": [],
   "source": [
    "#outp.append_stdout('Output appended with append_stdout')\n",
    "#outp.append_display_data(anim)"
   ]
  },
  {
   "cell_type": "code",
   "execution_count": null,
   "metadata": {},
   "outputs": [],
   "source": [
    "# import pandas as pd\n",
    "# import numpy as np\n",
    "# df = pd.DataFrame(np.random.randn(6,4),columns=list('ABCD'))\n",
    "# # Show in Jupyter\n",
    "# df\n",
    "\n",
    "# from IPython.display import HTML\n",
    "# s  = '<script type=\"text/Javascript\">'\n",
    "# s += 'var win = window.open(\"\", \"Title\", \"toolbar=no, location=no, directories=no, status=no, menubar=no, scrollbars=yes, resizable=yes, width=780, height=200, top=\"+(screen.height-400)+\", left=\"+(screen.width-840));'\n",
    "# s += 'win.document.body.innerHTML = \\'' + HTML(anim.to_jshtml()) + '\\';'\n",
    "# s += '</script>'\n",
    "\n",
    "# # Show in new Window\n",
    "# HTML(s)"
   ]
  },
  {
   "cell_type": "code",
   "execution_count": null,
   "metadata": {},
   "outputs": [],
   "source": [
    "#outp.clear_output()"
   ]
  },
  {
   "cell_type": "code",
   "execution_count": null,
   "metadata": {},
   "outputs": [],
   "source": []
  },
  {
   "cell_type": "code",
   "execution_count": null,
   "metadata": {},
   "outputs": [],
   "source": []
  }
 ],
 "metadata": {
  "kernelspec": {
   "display_name": "Python 3",
   "language": "python",
   "name": "python3"
  },
  "language_info": {
   "codemirror_mode": {
    "name": "ipython",
    "version": 3
   },
   "file_extension": ".py",
   "mimetype": "text/x-python",
   "name": "python",
   "nbconvert_exporter": "python",
   "pygments_lexer": "ipython3",
   "version": "3.6.9"
  },
  "varInspector": {
   "cols": {
    "lenName": 16,
    "lenType": 16,
    "lenVar": 40
   },
   "kernels_config": {
    "python": {
     "delete_cmd_postfix": "",
     "delete_cmd_prefix": "del ",
     "library": "var_list.py",
     "varRefreshCmd": "print(var_dic_list())"
    },
    "r": {
     "delete_cmd_postfix": ") ",
     "delete_cmd_prefix": "rm(",
     "library": "var_list.r",
     "varRefreshCmd": "cat(var_dic_list()) "
    }
   },
   "position": {
    "height": "144.85px",
    "left": "1541px",
    "right": "20px",
    "top": "218px",
    "width": "350px"
   },
   "types_to_exclude": [
    "module",
    "function",
    "builtin_function_or_method",
    "instance",
    "_Feature"
   ],
   "window_display": true
  }
 },
 "nbformat": 4,
 "nbformat_minor": 2
}
