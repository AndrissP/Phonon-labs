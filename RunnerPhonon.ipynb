{
 "cells": [
  {
   "cell_type": "markdown",
   "metadata": {},
   "source": [
    "### Run the cell below with *ctrl + enter* and enjoy the game:\n",
    "remember to read *Readme.md* and to install *ipywidgets*"
   ]
  },
  {
   "cell_type": "code",
   "execution_count": null,
   "metadata": {
    "scrolled": false
   },
   "outputs": [],
   "source": [
    "%matplotlib inline\n",
    "%matplotlib notebook\n",
    "from matplotlib import pyplot as plt\n",
    "%run -p cphonon.ipynb\n",
    "fig\n",
    "display(FirstBox)\n",
    "#display(Masses)\n",
    "display(Impurity)\n",
    "display(ModeNrInterBox)\n",
    "#display(FirstBox)\n",
    "#display(Masses)\n",
    "#display(Impurity)\n",
    "#display(ModeNrInterBox)\n",
    "#display(Debug)\n",
    "display(CreateAnim)\n",
    "#with outp:\n",
    "#     display(CreateAnim)\n",
    "outp"
   ]
  },
  {
   "cell_type": "code",
   "execution_count": null,
   "metadata": {},
   "outputs": [],
   "source": []
  },
  {
   "cell_type": "code",
   "execution_count": null,
   "metadata": {},
   "outputs": [],
   "source": []
  },
  {
   "cell_type": "code",
   "execution_count": null,
   "metadata": {
    "scrolled": false
   },
   "outputs": [],
   "source": []
  },
  {
   "cell_type": "markdown",
   "metadata": {},
   "source": [
    "You can add __your own text here__, and also above, if you want to teach something and some your own explanations.\n",
    "For ex.:\n",
    "* Notice how for fixed boundary conditions if the impurity is in the first atom, the impurity dies not change neither the dispersion, nor any of the eigenmodes\n",
    "\n",
    "To edit, double click on this, add your text in MarkDown language and press \"Ctrl+Enter\" or \"Shift+Enter\". Notice differences between the both shortcuts."
   ]
  },
  {
   "cell_type": "code",
   "execution_count": null,
   "metadata": {},
   "outputs": [],
   "source": [
    "#%run interactive.ipynb"
   ]
  },
  {
   "cell_type": "markdown",
   "metadata": {},
   "source": [
    "Here will be some additional plots with phase which people will be able to see if they want"
   ]
  },
  {
   "cell_type": "code",
   "execution_count": null,
   "metadata": {},
   "outputs": [],
   "source": []
  },
  {
   "cell_type": "code",
   "execution_count": null,
   "metadata": {},
   "outputs": [],
   "source": []
  },
  {
   "cell_type": "code",
   "execution_count": null,
   "metadata": {},
   "outputs": [],
   "source": []
  },
  {
   "cell_type": "code",
   "execution_count": null,
   "metadata": {},
   "outputs": [],
   "source": []
  },
  {
   "cell_type": "code",
   "execution_count": null,
   "metadata": {},
   "outputs": [],
   "source": []
  },
  {
   "cell_type": "code",
   "execution_count": null,
   "metadata": {},
   "outputs": [],
   "source": [
    "# fig, ax3=plt.subplots(1,1)\n",
    "# play = widgets.Play(\n",
    "#      interval=10,\n",
    "#     value=50,\n",
    "#     min=0,\n",
    "#     max=100,\n",
    "#     step=1,\n",
    "#     description=\"Press play\",\n",
    "#     disabled=False\n",
    "# )\n",
    "\n",
    "# def MakeAnim(change):\n",
    "#     global x\n",
    "#     global ax3\n",
    "#     w=change[\"new\"]\n",
    "#     ax3.cla()\n",
    "#     ax3.plot(x,w*np.sin(w * x*0.005))\n",
    "\n",
    "# x = np.linspace(0, 2 * np.pi)\n",
    "# ax3.plot(x, np.sin(x))\n",
    "\n",
    "# slider = widgets.IntSlider()\n",
    "# widgets.jslink((play, 'value'), (slider, 'value'))\n",
    "# AnimationFtion()\n",
    "# play.observe(MakeAnim, 'value')\n",
    "# widgets.HBox([play, slider])"
   ]
  },
  {
   "cell_type": "code",
   "execution_count": null,
   "metadata": {},
   "outputs": [],
   "source": []
  }
 ],
 "metadata": {
  "kernelspec": {
   "display_name": "Python 3",
   "language": "python",
   "name": "python3"
  },
  "language_info": {
   "codemirror_mode": {
    "name": "ipython",
    "version": 3
   },
   "file_extension": ".py",
   "mimetype": "text/x-python",
   "name": "python",
   "nbconvert_exporter": "python",
   "pygments_lexer": "ipython3",
   "version": "3.6.9"
  },
  "varInspector": {
   "cols": {
    "lenName": 16,
    "lenType": 16,
    "lenVar": 40
   },
   "kernels_config": {
    "python": {
     "delete_cmd_postfix": "",
     "delete_cmd_prefix": "del ",
     "library": "var_list.py",
     "varRefreshCmd": "print(var_dic_list())"
    },
    "r": {
     "delete_cmd_postfix": ") ",
     "delete_cmd_prefix": "rm(",
     "library": "var_list.r",
     "varRefreshCmd": "cat(var_dic_list()) "
    }
   },
   "types_to_exclude": [
    "module",
    "function",
    "builtin_function_or_method",
    "instance",
    "_Feature"
   ],
   "window_display": false
  }
 },
 "nbformat": 4,
 "nbformat_minor": 2
}
