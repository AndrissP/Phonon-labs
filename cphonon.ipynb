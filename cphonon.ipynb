{
 "cells": [
  {
   "cell_type": "markdown",
   "metadata": {},
   "source": [
    "# cphonon function\n",
    "### Authors\n",
    "Written in matlab by Anders Blom, *1999*\n",
    "Improved by Björn Samuelsson, *2000*\n",
    "Converted to python Andris Potrebko *2019*"
   ]
  },
  {
   "cell_type": "markdown",
   "metadata": {},
   "source": [
    "### So, we begin with importing some important libraries"
   ]
  },
  {
   "cell_type": "code",
   "execution_count": 824,
   "metadata": {},
   "outputs": [],
   "source": [
    "%matplotlib inline\n",
    "%matplotlib notebook\n",
    "from matplotlib import pyplot as plt\n",
    "\n",
    "from scipy.sparse import diags\n",
    "import numpy as np\n",
    "from scipy.linalg import eig\n",
    "import ipywidgets as widgets\n",
    "from ipywidgets import interact, interactive\n",
    "\n",
    "from IPython.display import display #Java - not there anymore for running cells from widgits\n",
    "\n",
    "# For plots being displaied right under the shell\n",
    "#import scipy as sp\n",
    "\n",
    "# pretty print all cell's output and not just the last one\n",
    "from IPython.core.interactiveshell import InteractiveShell\n",
    "InteractiveShell.ast_node_interactivity = \"all\"\n",
    "\n",
    "###Plotly Not sure if works\n",
    "# from plotly.offline import init_notebook_mode, iplot\n",
    "# from plotly.graph_objs import *"
   ]
  },
  {
   "cell_type": "markdown",
   "metadata": {},
   "source": [
    "### Define some initial values"
   ]
  },
  {
   "cell_type": "code",
   "execution_count": 825,
   "metadata": {},
   "outputs": [],
   "source": [
    "N = 10\n",
    "M1 = 1\n",
    "M2 = 1\n",
    "C = 1\n",
    "imp_enabled = 0\n",
    "Nimp = 5\n",
    "Mimp = 2\n",
    "bc = 2"
   ]
  },
  {
   "cell_type": "markdown",
   "metadata": {},
   "source": [
    "Create force matrix, with 2 on the diagonal and -1 on each side\n"
   ]
  },
  {
   "cell_type": "code",
   "execution_count": 826,
   "metadata": {},
   "outputs": [],
   "source": [
    "def CreateForceMatrix(N):\n",
    "    tmp1 = [-1]*(N-1)\n",
    "    tmp2 = [2]*N\n",
    "    diagonals = [tmp1, tmp2, tmp1]  # the diagonals of the force matrix\n",
    "    A = diags(diagonals, [-1, 0, 1]).todense()\n",
    "    return(A)\n",
    "A = CreateForceMatrix(N)"
   ]
  },
  {
   "cell_type": "code",
   "execution_count": 827,
   "metadata": {},
   "outputs": [],
   "source": [
    "#A"
   ]
  },
  {
   "cell_type": "markdown",
   "metadata": {},
   "source": [
    "Update the force matrix considering all boundary conditions"
   ]
  },
  {
   "cell_type": "code",
   "execution_count": 828,
   "metadata": {},
   "outputs": [],
   "source": [
    "def ForceMatrixBoundaryCond(A, bc, N):\n",
    "    if bc == 2:  # open ends\n",
    "        A[0, 0] = 1\n",
    "        A[N-1, N-1] = 1\n",
    "    elif bc == 1:  # fixed ends\n",
    "        A[0, 0] = - 2  # this will generate negative eigenvalues, to be removed below\n",
    "        A[N-1, N-1] = - 2\n",
    "        A[1, 0] = 0\n",
    "        A[0, 1] = 0\n",
    "        A[N - 2, N-1] = 0\n",
    "        A[N-1, N - 2] = 0\n",
    "    else:  # periodic boundary cond.\n",
    "        A[0, N-1] = - 1\n",
    "        A[N-1, 0] = - 1\n",
    "    return(A)\n",
    "A = ForceMatrixBoundaryCond(A, bc, N)"
   ]
  },
  {
   "cell_type": "code",
   "execution_count": 829,
   "metadata": {},
   "outputs": [],
   "source": [
    "#A"
   ]
  },
  {
   "cell_type": "markdown",
   "metadata": {},
   "source": [
    "Create mass matrix, take care of impurities"
   ]
  },
  {
   "cell_type": "code",
   "execution_count": 830,
   "metadata": {},
   "outputs": [],
   "source": [
    "def CreateMassMatrix(N, M1, M2, Nimp, Mimp, imp_enabled):\n",
    "    Nimp = Nimp-1  # Python counts from 0\n",
    "    B = np.zeros(shape=(N, N))  # diags([1]*N,0).todense()\n",
    "    for i in range(N):\n",
    "        if i % 2 == 0:  # if even\n",
    "            B[i, i] = 1 / M1\n",
    "        else:\n",
    "            B[i, i] = 1 / M2\n",
    "\n",
    "    if imp_enabled:\n",
    "        B[Nimp, Nimp] = 1 / Mimp\n",
    "    return(B)\n",
    "B = CreateMassMatrix(N, M1, M2, Nimp, Mimp, imp_enabled)"
   ]
  },
  {
   "cell_type": "code",
   "execution_count": 831,
   "metadata": {},
   "outputs": [],
   "source": [
    "#B"
   ]
  },
  {
   "cell_type": "code",
   "execution_count": null,
   "metadata": {},
   "outputs": [],
   "source": []
  },
  {
   "cell_type": "markdown",
   "metadata": {},
   "source": [
    "### Solve the eigenvalue equation\n",
    "We get *omega* - eigenfrequecies and V - the vector of all displacements *u*\n",
    "\n",
    "Set number of modes for fixed b.c. this number will be reduced by 2 as we remove negative eigenvalues (Two of the atoms don't move)"
   ]
  },
  {
   "cell_type": "code",
   "execution_count": 832,
   "metadata": {},
   "outputs": [],
   "source": [
    "def EigenEq(A, B, C, bc, N):\n",
    "    A1 = np.dot(C*B, A)\n",
    "    D, V = eig(A1)\n",
    "    D = np.real(D)\n",
    "    Nmodes = N\n",
    "    # Find negative eigenvalues and remove corresponding eigenvectors/-values for fixed b.c\n",
    "    if bc == 1:\n",
    "        for k in range(2):\n",
    "            neg = -1\n",
    "            for i in range(Nmodes):\n",
    "                if ((D[i] < -1e-06) & (neg == -1)):\n",
    "                    neg = i\n",
    "            D = np.concatenate([D[:(neg)], D[(neg+1):]])\n",
    "            V = np.concatenate([V[:, :(neg)], V[:, (neg+1):]], axis=1)\n",
    "            Nmodes = Nmodes - 1\n",
    "\n",
    "    # Abs because D can be slightly negative ex. -6.10622664e-16\n",
    "    omega = np.sqrt(np.abs(D))\n",
    "    # sort the eigenvalues and eigenmodes according to the eigenvalues\n",
    "    ind = np.argsort(omega)\n",
    "    omega = np.sort(omega)\n",
    "    V = V[:, ind]\n",
    "\n",
    "    return(omega, V, Nmodes)\n",
    "omega, V, Nmodes = EigenEq(A, B, C, bc, N)"
   ]
  },
  {
   "cell_type": "code",
   "execution_count": 833,
   "metadata": {},
   "outputs": [],
   "source": [
    "\n",
    "# omega\n",
    "# V\n",
    "# Nmodes"
   ]
  },
  {
   "cell_type": "code",
   "execution_count": null,
   "metadata": {},
   "outputs": [],
   "source": []
  },
  {
   "cell_type": "markdown",
   "metadata": {},
   "source": [
    "### Discrete fourier transform\n",
    "We use Fast fourier transform algorithm (*fft* function) to implement the discrete fourier transform.\n",
    "* For the case of *fixed ends* boundary conditions the smallest wave possible can be a wave with the wavelength _2*(N-1)_ - the wave can be antisymetric with the wave outside. This is why we are looking for _2*(N-1)_ wave number, but taking at the end only the first *Nmodes* possible ones.\n",
    "* For the case of *open ends* - the real periodicity is _2*N_. The cell goes from 0.5a to N+0.5a. At the end points the force is 0 => the deivative of the wave is zero.\n",
    "* For periodic boundary conditions, the periodicity is *N* but seaching for k vectors  we cut, only up to *floor(N/2)* Don't really get why it happens. But each frequency except zero is doubly degenerate with +K and -K solutions (moving in opposite directions), so when we look for K vectors, hey will be in our normalised units 0, -1, 1, -2, 2, 3... What we will get from the fourier analysis, will only be the absolute values of these. So the K values will go from 0 to floor(N/2) and afterwards the peaks in the fourier spectrum will start to repeat, showing the next Brilloin zone. For other boundary conditions each K will be different in absolute values, the maximal value will correspond to Nmodes\n",
    "\n",
    "\n",
    "//Andris **Need to check the open ends if it is symetric**\n"
   ]
  },
  {
   "cell_type": "code",
   "execution_count": 834,
   "metadata": {},
   "outputs": [],
   "source": [
    "def FourierTransform(bc, V, N, Nmodes):\n",
    "    if bc == 2:  # open ended\n",
    "        wavemax = Nmodes\n",
    "        Vplus=list(reversed(V[:-1,:])) #Add the mirror image - the other part of the system\n",
    "        VFull=np.vstack((V,Vplus))\n",
    "        Kk = np.fft.fft(VFull, 2*N, axis=0)\n",
    "        Kk = Kk[:int(wavemax) + 1, :Nmodes]\n",
    "        Ksq = np.real(Kk*np.conj(Kk))\n",
    "        #Ksq=np.imag(Kk)*np.imag(Kk)\n",
    "        Kargs = np.angle(Kk)\n",
    "    elif bc == 1:  # for fixed ends imaginary part turns out to work better. Still don't get why\n",
    "        wavemax = Nmodes\n",
    "        Vplus=list(reversed(V[:-1,:]*-1)) #Add the mirror image with the misus sign - the other part of the system\n",
    "        VFull=np.vstack((V,Vplus))\n",
    "        Kk = np.fft.fft(VFull, 2*(N - 1), axis=0)\n",
    "        Kk = Kk[:wavemax + 1, :Nmodes]\n",
    "        Ksq=np.real(Kk*np.conj(Kk))#Previously was taken Ksq = np.imag(Kk)*np.imag(Kk) \n",
    "        #If we don't extend then the eigenmode is only positive and fourier transform fives K=0, which is not physical.\n",
    "        #The previous matlab code solved this by taking the imag parts. I feels it more reasonable just to fix this manually\n",
    "        #Check the commented out code bellow\n",
    "        Kargs=np.angle(Kk)\n",
    "    else:  # periodic\n",
    "        wavemax = np.floor(N / 2)\n",
    "        Kk = np.fft.fft(V, N, axis=0)\n",
    "        Kk = Kk[:int(wavemax) + 1, :Nmodes]\n",
    "        Ksq = np.real(Kk*np.conj(Kk))  # can be a bit negative\n",
    "        Kargs = np.angle(Kk)\n",
    "\n",
    "    Ka = np.argmax(Ksq, axis=0)\n",
    "    Karg=[0]*Nmodes\n",
    "    for (k, i) in zip(Ka, range(Nmodes)):\n",
    "        Karg[i]=Kargs[k,i]\n",
    "    # mx=np.max(Ksq,axis=0)#this one we don't need\n",
    "    return(Ka, Karg)  # maybe Kk,\n",
    "Ka, Karg = FourierTransform(bc, V, N, Nmodes)"
   ]
  },
  {
   "cell_type": "code",
   "execution_count": 835,
   "metadata": {},
   "outputs": [],
   "source": [
    "#Ka"
   ]
  },
  {
   "cell_type": "code",
   "execution_count": null,
   "metadata": {},
   "outputs": [],
   "source": []
  },
  {
   "cell_type": "code",
   "execution_count": null,
   "metadata": {},
   "outputs": [],
   "source": []
  },
  {
   "cell_type": "code",
   "execution_count": 836,
   "metadata": {},
   "outputs": [],
   "source": [
    "# Ksq1=np.imag(Kk)*np.imag(Kk)\n",
    "# Ksq2=np.real(Kk*np.conj(Kk))\n",
    "\n",
    "# plt.plot(Ksq1[:,0])\n",
    "# plt.plot(Ksq2[:,0])\n",
    "\n",
    "# #plt.plot(np.imag(Ksq1[:,1]))\n",
    "#plt.plot(np.imag(Ksq2[:,1]))\n",
    "#plt.plot(np.real(Ksq1[:,1]))\n",
    "#plt.plot(np.real(Ksq2[:,1]))"
   ]
  },
  {
   "cell_type": "code",
   "execution_count": 837,
   "metadata": {},
   "outputs": [],
   "source": [
    "# %%capture \n",
    "# fig, ax = plt.subplots();\n",
    "# #wavemax=np.floor(N / 2)\n",
    "# Ksq=Kk*Kk\n",
    "# ax.plot(np.real(Ksq[:,1]))\n",
    "# ax.plot(np.real(Ksq[:,2]))\n",
    "# #ax.plot(np.real(V[:,1]))\n",
    "# #ax.plot(np.real(V[:,2]))\n",
    "# fig"
   ]
  },
  {
   "cell_type": "code",
   "execution_count": null,
   "metadata": {},
   "outputs": [],
   "source": []
  },
  {
   "cell_type": "code",
   "execution_count": null,
   "metadata": {},
   "outputs": [],
   "source": []
  },
  {
   "cell_type": "markdown",
   "metadata": {},
   "source": [
    "### Bunch of boring but important manipulations with the results.\n",
    "* For periodic boundary conditions we have doubly degenerate levels. For the degenerate levels: give the eigenmode with the smallest phase angle a plus sign and the other a minus sign. Afterwards we make the eigenmodes orthoganal. This will make them move into opposite directions\n",
    "* *Ka* values from the fft are only positive. Here we correct the signs filling up the dispersion plot\n",
    "* Give the corect amplitude for *Ka*"
   ]
  },
  {
   "cell_type": "code",
   "execution_count": 519,
   "metadata": {},
   "outputs": [],
   "source": [
    "# set Ka to the index of the biggest squared coefficient\n",
    "def CorrectOmega(Ka, Karg, Nmodes, V, omega, bc, M1, M2, N):\n",
    "    if not(Nmodes):  # if Nmodes = 0 (case when bc=1 and N=2) gives an error\n",
    "        maxi = 0\n",
    "    else:\n",
    "        maxi = np.argmax(Ka)\n",
    "\n",
    "    if bc == 0:\n",
    "        for j in range(Nmodes-1):\n",
    "            if np.abs(omega[j] - omega[j + 1]) < 1e-06:  # if both omegas \"almost\"\" equal\n",
    "                diff = Karg[j + 1] - Karg[j]\n",
    "                if diff < - np.pi:\n",
    "                    diff = diff + 2*np.pi\n",
    "                elif diff > np.pi:\n",
    "                    diff = diff - 2*np.pi\n",
    "                # those where maxi+1 is even Ka will be -Ka, see below in this sec.\n",
    "                if (diff > 0 == ( (maxi+1) % 2) ): #This means do only if both diff>0 and maxi+1 is even or both are not.\n",
    "                # those where maxi+1 is even Ka will be -Ka, see below in this sec.\n",
    "                    V[:, j] = - V[:, j]\n",
    "                # If the difference was pi/2 then changing the sign of one does not change the orthogonality\n",
    "                # Otherwise make them both orthonormal (supposes normated vectors)\n",
    "                if np.abs(np.abs(diff) - np.pi / 2) > 1e-06:\n",
    "                    V[:, j + 1] = V[:, j + 1] - V[:, j] * \\\n",
    "                        np.dot(V[:, j + 1], V[:, j])\n",
    "                    V[:, j + 1] = V[:, j + 1] / \\\n",
    "                        np.sqrt(np.dot(V[:, j + 1], V[:, j + 1]))\n",
    "\n",
    "    # Change sigh of every second Ka, depending on which is the maximum Ka. For periodic this will distribute dispersion \n",
    "    #On the right and left branch. For other boundary conditions, it would be enough to plot only one branch,\n",
    "    #but this is a pretty way of drawing it.\n",
    "    Ka[(maxi) % 2::2] = -Ka[(maxi) % 2::2]\n",
    "\n",
    "    # set correct magnitude of Ka\n",
    "    if bc == 1:\n",
    "        Ka = Ka*np.pi / (N - 1)\n",
    "    elif bc==0:\n",
    "        Ka = Ka*2*np.pi / N #*2 Remembering the cut we did at the Fourier transform\n",
    "    else:\n",
    "        Ka = Ka*np.pi / N\n",
    "        \n",
    "    # The high Ka values () belong to\n",
    "    if M1 != M2:\n",
    "        Ka = Ka*2\n",
    "\n",
    "        for i in range(Nmodes):\n",
    "            if np.abs(Ka[i]) > np.pi:\n",
    "                Ka[i] = np.sign(Ka[i])*(np.abs(Ka[i]) - 2*np.pi)\n",
    "\n",
    "    # correct sign if the last Ka is on the right boundary to the left side (we define our interval of Ka: [-pi/a, pi/a) )\n",
    "    for i in range(Nmodes):\n",
    "        if np.abs(Ka[i] - np.pi) < 1e-06:\n",
    "            Ka[i] = - Ka[i]\n",
    "    return(V, omega, Ka)\n",
    "V, omega, Ka = CorrectOmega(Ka, Karg, Nmodes, V, omega, bc, M1, M2, N)"
   ]
  },
  {
   "cell_type": "code",
   "execution_count": null,
   "metadata": {},
   "outputs": [],
   "source": [
    "\n",
    "\n",
    "# # set correct magnitude of Ka\n",
    "#     if bc == 1:\n",
    "#     if bc == 0:\n",
    "#         for j in range(Nmodes-1):\n",
    "#             if np.abs(omega[j] - omega[j + 1]) < 1e-06:  # if both omegas \"almost\"\" equal\n",
    "#                 diff = Karg[j + 1] - Karg[j]\n",
    "#                 if diff < - np.pi:\n",
    "#                     diff = diff + 2*np.pi\n",
    "#                 elif diff > np.pi:\n",
    "#                     diff = diff - 2*np.pi\n",
    "#                 if (diff > 0 == ( (maxi+1) % 2) ): #This means do only if both diff>0 and maxi+1 is even or both are not.\n",
    "#                 # those where maxi+1 is even Ka will be -Ka, see below in this sec.\n",
    "#                     V[:, j] = - V[:, j]\n",
    "#                 # If the difference was pi/2 then changing the sign of one does not change the orthogonality\n",
    "#                 # Otherwise make them both orthonormal (supposes normated vectors)\n",
    "#                 if np.abs(np.abs(diff) - np.pi / 2) > 1e-06:\n",
    "#                     V[:, j + 1] = V[:, j + 1] - V[:, j] * \\\n",
    "#                         np.dot(V[:, j + 1], V[:, j])\n",
    "#                     V[:, j + 1] = V[:, j + 1] / \\\n",
    "#                         np.sqrt(np.dot(V[:, j + 1], V[:, j + 1]))        \n",
    "                    \n",
    "#                     Ka = Ka*np.pi / (N - 1)\n",
    "#     elif bc==0:\n",
    "#         Ka = Ka*2*np.pi / N #*2 Remembering the cut we did at the Fourier transform\n",
    "#     else:\n",
    "#         Ka = Ka*np.pi / N"
   ]
  },
  {
   "cell_type": "markdown",
   "metadata": {},
   "source": [
    "### set amplitude proportional to classical amplitude of one excitation"
   ]
  },
  {
   "cell_type": "code",
   "execution_count": 520,
   "metadata": {},
   "outputs": [],
   "source": [
    "def CorrectAmplitude(V, omega, C, N):\n",
    "    Vdiff = V[:(N-1), :]-V[1:N, :]\n",
    "    if bc == 0:\n",
    "        Vdiff = np.vstack((Vdiff[:(N-1), :], V[(N-1), :] - V[0, :]))\n",
    "\n",
    "    Vdiff = V[:(N-1), :]-V[1:N, :]\n",
    "    if bc == 0: #Maybe if bc!=1, to incude open ends\n",
    "        Vdiff = np.vstack((Vdiff[:(N-1), :], V[(N-1), :] - V[0, :]))\n",
    "    Vdiff = np.diag(np.dot(np.transpose(Vdiff), Vdiff)).copy()\n",
    "\n",
    "    if Nmodes != 0:  # Otherwise it gives error, because no such element\n",
    "        if Vdiff[0] < 1e-06:\n",
    "            Vdiff[0] = 1\n",
    "\n",
    "    Ch = 4*np.sqrt(2*omega / (C*Vdiff))  \n",
    "    V = np.dot(V, diags(Ch, 0).todense())\n",
    "    return(V)\n",
    "\n",
    "\n",
    "V = CorrectAmplitude(V, omega, C, N)"
   ]
  },
  {
   "cell_type": "code",
   "execution_count": null,
   "metadata": {},
   "outputs": [],
   "source": []
  },
  {
   "cell_type": "code",
   "execution_count": 521,
   "metadata": {},
   "outputs": [],
   "source": [
    "# Vdiff = V[:(N-1), :]-V[1:N, :]\n",
    "# if bc == 0:\n",
    "#     Vdiff = np.vstack((Vdiff[:(N-1), :], V[(N-1), :] - V[0, :]))\n",
    "\n",
    "# Vdiff = V[:(N-1), :]-V[1:N, :]\n",
    "# if bc == 0: #Maybe if bc!=1, to incude open ends\n",
    "#     Vdiff = np.vstack((Vdiff[:(N-1), :], V[(N-1), :] - V[0, :]))\n",
    "# Vdiff = np.diag(np.dot(np.transpose(Vdiff), Vdiff)).copy()\n",
    "\n",
    "# if Nmodes != 0:  # Otherwise it gives error, because no such element\n",
    "#     if Vdiff[0] < 1e-06:\n",
    "#         Vdiff[0] = 1\n",
    "# Ch = 4*np.sqrt(2*omega / (C*Vdiff))"
   ]
  },
  {
   "cell_type": "code",
   "execution_count": null,
   "metadata": {},
   "outputs": [],
   "source": []
  },
  {
   "cell_type": "code",
   "execution_count": null,
   "metadata": {},
   "outputs": [],
   "source": []
  },
  {
   "cell_type": "markdown",
   "metadata": {},
   "source": [
    "### Analytic solution of the dispersion relation"
   ]
  },
  {
   "cell_type": "code",
   "execution_count": 522,
   "metadata": {},
   "outputs": [],
   "source": [
    "# %%capture\n",
    "# capture - so that the plot does not get displayed\n"
   ]
  },
  {
   "cell_type": "markdown",
   "metadata": {},
   "source": [
    "The guy bellow (function) plots dispersion plot from both data and the theoretical calculations"
   ]
  },
  {
   "cell_type": "code",
   "execution_count": 523,
   "metadata": {},
   "outputs": [],
   "source": [
    "def PlotDisp(C, M1, M2, omega, Ka, ax1,ModeNr):\n",
    "    #global ax1\n",
    "    ax1.cla()\n",
    "    ax1.plot(Ka, omega, 'bo', label='simulation')\n",
    "    \n",
    "    #Ephesise the chosen point to plot the eigenmode\n",
    "    SizeChosenP=16-N/20 #If there are many points on the plot then the marker is too big\n",
    "    try:\n",
    "        ax1.plot(Ka[ModeNr-1],omega[ModeNr-1],'rx',markersize=SizeChosenP)\n",
    "        ax1.plot(Ka[ModeNr-1],omega[ModeNr-1],'ro',fillstyle='none',markersize=SizeChosenP)\n",
    "    except:\n",
    "        pass\n",
    "\n",
    "    ka = np.linspace(-np.pi, np.pi, 100)\n",
    "    if M1 == M2:\n",
    "        analytic = np.sqrt(4*C/M1)*np.abs(np.sin(ka/2))\n",
    "        ax1.plot(ka, analytic, label='analytic')\n",
    "    else:\n",
    "        MM = (M1+M2)/(M1*M2)\n",
    "        analytic1 = np.sqrt(\n",
    "            C*MM * (1 + np.sqrt(1-2/MM/(M1+M2)*(1-np.cos(ka)))))\n",
    "        analytic2 = np.sqrt(\n",
    "            C*MM * (1 - np.sqrt(1-2/MM/(M1+M2)*(1-np.cos(ka)))))\n",
    "        ax1.plot(ka, analytic1, label='analytic acustic')\n",
    "        ax1.plot(ka, analytic2, label='analytic optical')\n",
    "    ax1.legend()\n",
    "    ax1.set(xlabel='k*a',ylabel='frequency, arb.u', title='dispersion relation/allowed vibrational frequencies')\n",
    "\n",
    "    \n",
    "#fig, ax1 = plt.subplots()\n",
    "#PlotDisp(C,M1,M2, omega, Ka,ax1,1)"
   ]
  },
  {
   "cell_type": "code",
   "execution_count": null,
   "metadata": {},
   "outputs": [],
   "source": []
  },
  {
   "cell_type": "markdown",
   "metadata": {},
   "source": [
    "This guy plots dispacements at one specific given eigenmode"
   ]
  },
  {
   "cell_type": "code",
   "execution_count": 524,
   "metadata": {},
   "outputs": [],
   "source": [
    "def PlotEigenmode(V, ModeNr, M1, M2, ax2, imp_enabled, Mimp, Nimp):\n",
    "    #fig, ax = plt.subplots();\n",
    "    Nmodes=len(V[:, 0])\n",
    "    ax2.cla()\n",
    "    if M1 > M2:\n",
    "        mark1 = 11\n",
    "        mark2 = 6\n",
    "    elif M1 == M2:\n",
    "        mark1 = mark2 = 6\n",
    "    else:\n",
    "        mark1 = 6\n",
    "        mark2 = 11\n",
    "    marktype = 'bo' if M1 == M2 else 'go'\n",
    "    oddatoms = range(1, Nmodes+1, 2)\n",
    "    evenatoms = range(2, Nmodes+1, 2)\n",
    "    allatoms = range(1, Nmodes+1)\n",
    "    ax2.set(xlabel='x, atomic spacings',ylabel='displacement, u(t=0), arb.u', title='Instantaneous postitions at one eigenmode')\n",
    "    if ModeNr==1:\n",
    "        ax2.set_title('Inst. postitions at one eigenmode',horizontalalignment='left')\n",
    "    ax2.plot(oddatoms, V[::2, ModeNr-1], 'bo', markersize=mark1)\n",
    "    ax2.plot(evenatoms, V[1::2, ModeNr-1], marktype, markersize=mark2)\n",
    "    ax2.plot(allatoms, V[:, ModeNr-1], '-y')\n",
    "    if imp_enabled == 1:\n",
    "        ax2.plot(Nimp, V[Nimp-1, ModeNr-1], 'wo', markersize=11)\n",
    "        ax2.plot(Nimp, V[Nimp-1, ModeNr-1], 'ro', markersize=np.log(Mimp/M1+1.7)*7)"
   ]
  },
  {
   "cell_type": "code",
   "execution_count": 525,
   "metadata": {},
   "outputs": [],
   "source": [
    "def PlotEigenmodeFixedN2(V, M1, M2, ax2, imp_enabled, Mimp, Nimp):\n",
    "    oddatoms=1\n",
    "    evenatoms=2\n",
    "    ax2.cla()\n",
    "    if M1 > M2:\n",
    "        mark1 = 11\n",
    "        mark2 = 6\n",
    "    elif M1 == M2:\n",
    "        mark1 = mark2 = 6\n",
    "    else:\n",
    "        mark1 = 6\n",
    "        mark2 = 11\n",
    "    marktype = 'bo' if M1 == M2 else 'go'\n",
    "    allatoms=[1,2]\n",
    "    ax2.set(xlabel='x, atomic spacings',ylabel='displacement, u(t=0), arb.u', title='Instantaneous postitions at one eigenmode')\n",
    "    ax2.plot(oddatoms, 0, 'bo', markersize=mark1)\n",
    "    ax2.plot(evenatoms, 0, marktype, markersize=mark2)\n",
    "    ax2.plot(allatoms, [0,0], '-y')\n",
    "    if imp_enabled == 1:\n",
    "        ax2.plot(Nimp, 0, 'wo', markersize=11)\n",
    "        ax2.plot(Nimp, 0, 'ro', markersize=np.log(Mimp/M1+1.7)*7)\n",
    "    "
   ]
  },
  {
   "cell_type": "code",
   "execution_count": null,
   "metadata": {},
   "outputs": [],
   "source": []
  },
  {
   "cell_type": "markdown",
   "metadata": {},
   "source": [
    "### Here we begin the user interface (UI) part using *widgets* :)"
   ]
  },
  {
   "cell_type": "code",
   "execution_count": null,
   "metadata": {},
   "outputs": [],
   "source": []
  },
  {
   "cell_type": "markdown",
   "metadata": {},
   "source": [
    "Import some missing libraries and define a function which will calculate $\\omega$ and $K_a$ (do everything above) every time some of the main input widgets will be changed. Function *interactive* also defines these widgets."
   ]
  },
  {
   "cell_type": "code",
   "execution_count": 526,
   "metadata": {},
   "outputs": [],
   "source": [
    "from ipywidgets import Label, HBox, Layout"
   ]
  },
  {
   "cell_type": "markdown",
   "metadata": {},
   "source": [
    "Before the definition of the function we also define plots which will be called later. For some buggy reason, the *matplotlib* has to be imported and \"*%matplotlib notebook*\" has to be called again"
   ]
  },
  {
   "cell_type": "code",
   "execution_count": 527,
   "metadata": {},
   "outputs": [],
   "source": [
    "%%capture\n",
    "from matplotlib import pyplot as plt\n",
    "%matplotlib notebook\n",
    "# calling it a second time may prevent some graphics errors\n",
    "%matplotlib notebook\n",
    "fig, [ax1, ax2] = plt.subplots(nrows=1, ncols=2)\n",
    "fig.set_size_inches(9.5, 3.5)\n",
    "#fig2, ax3 = plt.subplots(nrows=1,ncols=1)\n",
    "# fig2.set_size_inches(10.0, 0.7)\n",
    "PlotDisp(C,M1,M2, omega, Ka,ax1,2)\n",
    "PlotEigenmode(**{'V':V,'ModeNr':2,'M1':M1,'M2':M2,\"ax2\":ax2,'imp_enabled':imp_enabled,'Mimp':Mimp,'Nimp':Nimp})\n",
    "\n",
    "\n",
    "DebugFig, DebAx=plt.subplots()\n",
    "DebAx.plot(Karg)"
   ]
  },
  {
   "cell_type": "code",
   "execution_count": 528,
   "metadata": {},
   "outputs": [],
   "source": [
    "#Debug=widgets.HTMLMath(value='Start',placeholder='Some HTML')\n",
    "def update(N=N, C=C, bc=bc, M1=M1, M2=M2, imp_enabled=imp_enabled, Nimp=Nimp, Mimp=Mimp, ModeNr=2): #,Debug=1\n",
    "    A = CreateForceMatrix(N)\n",
    "    A = ForceMatrixBoundaryCond(A, bc, N)\n",
    "    B = CreateMassMatrix(N, M1, M2, Nimp, Mimp, imp_enabled)\n",
    "    omega, V, Nmodes = EigenEq(A, B, C, bc, N)\n",
    "\n",
    "    # ax.plot(Ka,omega,'bo',label=['simulation']);\n",
    "    # fig\n",
    "    if (len(omega)==0):\n",
    "        #Debug.value='5'\n",
    "        omega=float('nan')\n",
    "        V=float('nan')\n",
    "        Ka=float('nan')\n",
    "        PlotDisp(C, M1, M2, omega, Ka, ax1,ModeNr)\n",
    "        PlotEigenmodeFixedN2(V, M1, M2, ax2, imp_enabled, Mimp, Nimp)\n",
    "    else:\n",
    "        Ka, Karg = FourierTransform(bc, V, N, Nmodes)\n",
    "        V, omega, Ka = CorrectOmega(Ka, Karg, Nmodes, V, omega, bc, M1, M2, N)\n",
    "        DebAx.cla()\n",
    "        DebAx.plot(Karg)\n",
    "        #Debug.value='I got printed_4_{}'.format(omega)\n",
    "        V = CorrectAmplitude(V, omega, C, N)\n",
    "        PlotDisp(C, M1, M2, omega, Ka, ax1,ModeNr)\n",
    "        PlotEigenmode(V, ModeNr, M1, M2, ax2, imp_enabled, Mimp, Nimp)\n",
    "    \n",
    "    try: \n",
    "        len(omega) #Will work if omega is not 'nan'     \n",
    "        return Ka[ModeNr-1], omega[ModeNr-1], V[:,ModeNr-1]\n",
    "    except:\n",
    "        return Ka, omega, V   \n",
    "\n",
    "#\n",
    "MyInteraction=interactive(update, N=(2, 100, 1), C=(0.2, 10, 0.2), bc=[('periodic', 0),('fixed ends', 1), ('open ends', 2)],\n",
    "                          M1=(0.1, 5, 0.1), M2=(0.1, 5, 0.1), imp_enabled=[('impurity disabled', 0), ('impurity enabled', 1)],\n",
    "                          Nimp=(1, 10, 1), Mimp=(0.1, 5, 0.1),ModeNr=(1, 10, 1))\n"
   ]
  },
  {
   "cell_type": "code",
   "execution_count": 529,
   "metadata": {},
   "outputs": [],
   "source": [
    "# N=5\n",
    "# A = CreateForceMatrix(N)\n",
    "# A = ForceMatrixBoundaryCond(A, bc, N)\n",
    "# B = CreateMassMatrix(N, M1, M2, Nimp, Mimp, imp_enabled)\n",
    "# omega, V, Nmodes = EigenEq(A, B, C, bc, N)\n",
    "# Ka, Karg = FourierTransform(bc, V, N, Nmodes)\n",
    "# V, omega, Ka = CorrectOmega(Ka, Karg, Nmodes, V, omega, bc, M1, M2, N)\n",
    "# V = CorrectAmplitude(V, omega, C, N)\n",
    "# # ax.plot(Ka,omega,'bo',label=['simulation']);\n",
    "# # fig"
   ]
  },
  {
   "cell_type": "code",
   "execution_count": 530,
   "metadata": {},
   "outputs": [],
   "source": [
    "#(len(omega)==0)"
   ]
  },
  {
   "cell_type": "code",
   "execution_count": 531,
   "metadata": {},
   "outputs": [],
   "source": [
    "#fig"
   ]
  },
  {
   "cell_type": "code",
   "execution_count": null,
   "metadata": {},
   "outputs": [],
   "source": []
  },
  {
   "cell_type": "markdown",
   "metadata": {},
   "source": [
    "I agree that the bellow is not the prettiest way of doing it but I am not really a  programmer and just learning about widgets. :D So, first we get acces to all widgets in MyInteraction so that it would be more starightforward doing it. Also, delete names (*.description*) of each widget because otherwise it will appear when we print it using *HBox* later. The output looks nicer if the name is defined at *HBox*."
   ]
  },
  {
   "cell_type": "code",
   "execution_count": 532,
   "metadata": {},
   "outputs": [],
   "source": [
    "for widg in MyInteraction.children[:-1]:\n",
    "    widg.description=\"\"\n",
    "    widg.continuous_update=False\n",
    "    #widg.style=style\n",
    "\n",
    "NInter, CInter, bcInter, M1Inter, M2Inter, imp_enabledInter, NimpInter, MimpInter, ModeNrInter = [MyInteraction.children[i] for i in range(9)]\n",
    "\n",
    "#Change sizes of the two boxes otherwise it is too large\n",
    "bcInter.layout=Layout(width='80px')\n",
    "imp_enabledInter.layout=Layout(width='130px')"
   ]
  },
  {
   "cell_type": "markdown",
   "metadata": {},
   "source": [
    "Here define a widget that will print out the chosen value of $K_a$ and corresponding $\\omega$"
   ]
  },
  {
   "cell_type": "code",
   "execution_count": 534,
   "metadata": {},
   "outputs": [],
   "source": [
    "### Define printing omega and Ka values\n",
    "OmegaPrint=\"Frequency \\( \\omega\\) is <b>{}</b> arb.u.\"\n",
    "Kprint= \"<br> Wave vector \\( k \\) is <b>{}</b> arb.u.\"         \n",
    "PrintValue=widgets.HTMLMath(\n",
    "    value='',\n",
    "    #value=OmegaPrint.format(np.round(MyInteraction.result[1],3))+Kprint.format(np.round(MyInteraction.result[0],2)),\n",
    "    placeholder='Some HTML',\n",
    "    #description='Some HTML'\n",
    ")\n",
    "def updateHTML(*args):\n",
    "    try:\n",
    "        PrintValue.value=OmegaPrint.format(np.round(MyInteraction.result[1],3))+Kprint.format(np.round(MyInteraction.result[0],2))\n",
    "    except:\n",
    "        PrintValue.value=OmegaPrint.format('No Value')+Kprint.format('No Value')        \n",
    "for widg in MyInteraction.children:\n",
    "    widg.observe(updateHTML, 'value')\n",
    "    \n"
   ]
  },
  {
   "cell_type": "code",
   "execution_count": null,
   "metadata": {},
   "outputs": [],
   "source": []
  },
  {
   "cell_type": "markdown",
   "metadata": {},
   "source": [
    "#### Defining additional widgets and functions\n",
    "First we define a bottom that will make the two masses equal when we press it"
   ]
  },
  {
   "cell_type": "code",
   "execution_count": 536,
   "metadata": {},
   "outputs": [],
   "source": [
    "NInter, CInter, bcInter, M1Inter, M2Inter, imp_enabledInter, NimpInter, MimpInter, ModeNrInter = [MyInteraction.children[i] for i in range(9)]"
   ]
  },
  {
   "cell_type": "code",
   "execution_count": 537,
   "metadata": {},
   "outputs": [],
   "source": [
    "MassEqualBtn = widgets.Button(description='Equalize Masses')\n",
    "def equalize_Masses(btn_object):\n",
    "    M2Inter.value = M1Inter.value\n",
    "MassEqualBtn.on_click(equalize_Masses)\n"
   ]
  },
  {
   "cell_type": "markdown",
   "metadata": {},
   "source": [
    "Take care that when we have fixed ends, the mode number is N-2\n",
    "Afterwards, when we have different basses and periodic boundary conditions, N must be even"
   ]
  },
  {
   "cell_type": "code",
   "execution_count": 538,
   "metadata": {},
   "outputs": [],
   "source": [
    "def updateMaxValues(*args):\n",
    "    if bcInter.value==1:\n",
    "        if NInter.value==2: #otherwise gives error that max value is less then min value\n",
    "            ModeNrInter.min=ModeNrInter.max=0\n",
    "        else:\n",
    "            ModeNrInter.max=NInter.value-2\n",
    "            ModeNrInter.min=1\n",
    "    else:\n",
    "        ModeNrInter.max=NInter.value\n",
    "        ModeNrInter.min=1\n",
    "    NimpInter.max=NInter.value\n",
    "    \n",
    "NInter.observe(updateMaxValues, 'value')\n",
    "bcInter.observe(updateMaxValues, 'value')\n",
    "\n",
    "def updateNstep(*args):\n",
    "    if (M1Inter.value!=M2Inter.value)&(bcInter.value==0):\n",
    "        NInter.step=2\n",
    "        NInter.value = NInter.value+1 if NInter.value%2 else NInter.value\n",
    "    else:\n",
    "        NInter.step=1\n",
    "\n",
    "M1Inter.observe(updateNstep, 'value')\n",
    "M2Inter.observe(updateNstep, 'value')\n",
    "bcInter.observe(updateNstep, 'value')"
   ]
  },
  {
   "cell_type": "code",
   "execution_count": 539,
   "metadata": {},
   "outputs": [],
   "source": [
    "#ModeNrInter.max=ModeNrInter.min=0"
   ]
  },
  {
   "cell_type": "markdown",
   "metadata": {
    "scrolled": true
   },
   "source": [
    "Define all of the outputs"
   ]
  },
  {
   "cell_type": "code",
   "execution_count": 540,
   "metadata": {},
   "outputs": [],
   "source": [
    "FirstBox=widgets.HBox([Label('N of atoms'),NInter,Label('Spring constant $\\gamma$'),CInter,Label('boundary cond.'), bcInter])\n",
    "#Player=widgets.HBox([play, slider])\n",
    "Masses=widgets.HBox([Label('Mass 1 $M_1$'),M1Inter,Label('Mass 2, $M_2$'), M2Inter, MassEqualBtn])\n",
    "ImpurityBox=widgets.HBox([imp_enabledInter,Label('Mass of imp.'),MimpInter,Label('Atom nr. of imp.'), NimpInter])\n",
    "ModeNrInterBox=widgets.HBox([Label('Mode number'),ModeNrInter, PrintValue])\n",
    "Impurity = widgets.Accordion(children=[Masses,ImpurityBox])\n",
    "Impurity.set_title(0,'Masses') \n",
    "Impurity.set_title(1, 'Impurity')"
   ]
  },
  {
   "cell_type": "markdown",
   "metadata": {
    "scrolled": true
   },
   "source": [
    "Animation"
   ]
  },
  {
   "cell_type": "code",
   "execution_count": 541,
   "metadata": {
    "scrolled": false
   },
   "outputs": [],
   "source": [
    "# fig\n",
    "# display(FirstBox)\n",
    "# #display(Masses)\n",
    "# display(Impurity)\n",
    "# display(ModeNrInterBox)"
   ]
  },
  {
   "cell_type": "code",
   "execution_count": null,
   "metadata": {},
   "outputs": [],
   "source": []
  },
  {
   "cell_type": "code",
   "execution_count": 542,
   "metadata": {},
   "outputs": [],
   "source": [
    "#%%capture\n",
    "from matplotlib import animation, rc\n",
    "from IPython.display import HTML\n"
   ]
  },
  {
   "cell_type": "markdown",
   "metadata": {},
   "source": [
    "Botton which would create an animation if pressed"
   ]
  },
  {
   "cell_type": "code",
   "execution_count": 543,
   "metadata": {},
   "outputs": [],
   "source": [
    "# plt.rcParams[\"animation.html\"] = \"jshtml\"\n",
    "# CreateAnim"
   ]
  },
  {
   "cell_type": "code",
   "execution_count": null,
   "metadata": {},
   "outputs": [],
   "source": []
  },
  {
   "cell_type": "code",
   "execution_count": 544,
   "metadata": {},
   "outputs": [],
   "source": [
    "# fig\n",
    "# display(FirstBox)\n",
    "# #display(Masses)\n",
    "# display(Impurity)\n",
    "# display(ModeNrInterBox)"
   ]
  },
  {
   "cell_type": "code",
   "execution_count": 545,
   "metadata": {},
   "outputs": [],
   "source": [
    "#%matplotlib notebook\n",
    "#%matplotlib notebook\n",
    "CreateAnim = widgets.Button(description=r'Create animation')\n",
    "#CreateAnim = widgets.Button(description=r'Create animation (it will take 10-15seconds)')\n",
    "\n",
    "outp=widgets.Output(layout={'border': '1px solid black'})\n",
    "def AnimateOnClick(*args):   \n",
    "    %run -p Animation.ipynb\n",
    "    outp.clear_output()\n",
    "    #display(anim)\n",
    "    #display(HTML(anim.to_jshtml()))\n",
    "    with outp:\n",
    "        display(anim)\n",
    "CreateAnim.on_click(AnimateOnClick)\n",
    "CreateAnim.layout=Layout(width='350px',height='60px')"
   ]
  },
  {
   "cell_type": "code",
   "execution_count": 546,
   "metadata": {},
   "outputs": [],
   "source": [
    "#with outp:\n",
    "#    display(CreateAnim)\n",
    "#anim"
   ]
  },
  {
   "cell_type": "code",
   "execution_count": 547,
   "metadata": {},
   "outputs": [],
   "source": [
    "#outp"
   ]
  },
  {
   "cell_type": "code",
   "execution_count": 548,
   "metadata": {},
   "outputs": [],
   "source": [
    "# with outp:\n",
    "#     anim"
   ]
  },
  {
   "cell_type": "code",
   "execution_count": 549,
   "metadata": {},
   "outputs": [],
   "source": [
    "#outp.clear_output()"
   ]
  },
  {
   "cell_type": "code",
   "execution_count": 550,
   "metadata": {},
   "outputs": [],
   "source": [
    "#%run -p Untitled-checkpoint.ipynb"
   ]
  },
  {
   "cell_type": "markdown",
   "metadata": {},
   "source": [
    "Widgets for the animation. *Play* laggs and updates plot only like twice a second which is not what I really like. Found no better solution"
   ]
  },
  {
   "cell_type": "code",
   "execution_count": 551,
   "metadata": {},
   "outputs": [],
   "source": [
    "# #l=widgets.jslink((MyInteraction.children[0],\"value\"),(Nreal,\"value\"))\n",
    "# play = widgets.Play(\n",
    "#      interval=10,\n",
    "#     value=50,\n",
    "#     min=0,\n",
    "#     max=100,\n",
    "#     step=1,\n",
    "#     description=\"Press play\",\n",
    "#     disabled=False\n",
    "# )\n",
    "# def MakeAnim(change):\n",
    "#     global x\n",
    "#     global ax3\n",
    "#     w=change[\"new\"]\n",
    "#     ax3.cla()\n",
    "#     ax3.plot(x,w*np.sin(w * x*0.005))\n",
    "\n",
    "# x = np.linspace(0, 2 * np.pi)\n",
    "# ax3.plot(x, np.sin(x))\n",
    "# slider = widgets.IntSlider()\n",
    "# widgets.jslink((play, 'value'), (slider, 'value'))\n",
    "# play.observe(MakeAnim, 'value')"
   ]
  },
  {
   "cell_type": "code",
   "execution_count": null,
   "metadata": {},
   "outputs": [],
   "source": []
  },
  {
   "cell_type": "code",
   "execution_count": 552,
   "metadata": {},
   "outputs": [],
   "source": [
    "# fig\n",
    "# display(FirstBox)\n",
    "# #display(Masses)\n",
    "# display(Impurity)\n",
    "# display(ModeNrInterBox)\n",
    "# #display(FirstBox)\n",
    "# #display(Masses)\n",
    "# #display(Impurity)\n",
    "# #display(ModeNrInterBox)\n",
    "# #display(CreateAnim)\n",
    "# #with outp:\n",
    "# #     display(CreateAnim)\n",
    "# #outp"
   ]
  },
  {
   "cell_type": "code",
   "execution_count": null,
   "metadata": {},
   "outputs": [],
   "source": []
  },
  {
   "cell_type": "code",
   "execution_count": null,
   "metadata": {},
   "outputs": [],
   "source": []
  }
 ],
 "metadata": {
  "kernelspec": {
   "display_name": "Python 3",
   "language": "python",
   "name": "python3"
  },
  "language_info": {
   "codemirror_mode": {
    "name": "ipython",
    "version": 3
   },
   "file_extension": ".py",
   "mimetype": "text/x-python",
   "name": "python",
   "nbconvert_exporter": "python",
   "pygments_lexer": "ipython3",
   "version": "3.6.9"
  },
  "varInspector": {
   "cols": {
    "lenName": 16,
    "lenType": 16,
    "lenVar": 40
   },
   "kernels_config": {
    "python": {
     "delete_cmd_postfix": "",
     "delete_cmd_prefix": "del ",
     "library": "var_list.py",
     "varRefreshCmd": "print(var_dic_list())"
    },
    "r": {
     "delete_cmd_postfix": ") ",
     "delete_cmd_prefix": "rm(",
     "library": "var_list.r",
     "varRefreshCmd": "cat(var_dic_list()) "
    }
   },
   "position": {
    "height": "253px",
    "left": "996px",
    "right": "20px",
    "top": "120px",
    "width": "350px"
   },
   "types_to_exclude": [
    "module",
    "function",
    "builtin_function_or_method",
    "instance",
    "_Feature"
   ],
   "window_display": false
  }
 },
 "nbformat": 4,
 "nbformat_minor": 2
}
