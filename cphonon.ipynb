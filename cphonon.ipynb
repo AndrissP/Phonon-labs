{
 "cells": [
  {
   "cell_type": "markdown",
   "metadata": {},
   "source": [
    "# cphonon function\n",
    "### Authors\n",
    "Written in matlab by Anders Blom, *1999*\n",
    "Improved by Björn Samuelsson, *2000*\n",
    "Converted to python Andris Potrebko *2019*"
   ]
  },
  {
   "cell_type": "markdown",
   "metadata": {},
   "source": [
    "# Here I am just playing around with widgets"
   ]
  },
  {
   "cell_type": "code",
   "execution_count": 58,
   "metadata": {},
   "outputs": [],
   "source": [
    "from scipy.sparse import diags\n",
    "import numpy as np\n",
    "from scipy.linalg import eig\n",
    "from matplotlib import pyplot as plt\n",
    "import ipywidgets as widgets\n",
    "from ipywidgets import interact, interactive\n",
    "\n",
    "from IPython.display import display #Java - not there anymore for running cells from widgits\n",
    "%matplotlib inline\n",
    "# For plots being displaied right under the shell\n",
    "#import scipy as sp\n",
    "\n",
    "# pretty print all cell's output and not just the last one\n",
    "from IPython.core.interactiveshell import InteractiveShell\n",
    "InteractiveShell.ast_node_interactivity = \"all\"\n",
    "\n",
    "###Plotly Not sure if works\n",
    "# from plotly.offline import init_notebook_mode, iplot\n",
    "# from plotly.graph_objs import *"
   ]
  },
  {
   "cell_type": "markdown",
   "metadata": {},
   "source": [
    "# Real code starts here"
   ]
  },
  {
   "cell_type": "markdown",
   "metadata": {},
   "source": [
    "For fun witg widgets:"
   ]
  },
  {
   "cell_type": "code",
   "execution_count": 59,
   "metadata": {},
   "outputs": [],
   "source": [
    "# x=5\n",
    "# slider = widgets.IntSlider()\n",
    "# slider.value = x\n",
    "# def on_change(v):\n",
    "#    global x\n",
    "#    T = v['new'] \n",
    "# slider.observe(on_change, names='value')\n",
    "# display(slider)"
   ]
  },
  {
   "cell_type": "markdown",
   "metadata": {},
   "source": [
    "### Some initial values"
   ]
  },
  {
   "cell_type": "code",
   "execution_count": 90,
   "metadata": {},
   "outputs": [],
   "source": [
    "N=10\n",
    "M1=0.1\n",
    "M2=1\n",
    "C=1\n",
    "imp_enabled=1\n",
    "Nimp=5\n",
    "Mimp=5\n",
    "bc=0"
   ]
  },
  {
   "cell_type": "markdown",
   "metadata": {},
   "source": [
    "Create force matrix, with 2 on the diagonal and -1 on each side\n"
   ]
  },
  {
   "cell_type": "code",
   "execution_count": 91,
   "metadata": {},
   "outputs": [],
   "source": [
    "def CreateForceMatrix(N):\n",
    "    tmp1=[-1]*(N-1)\n",
    "    tmp2=[2]*N\n",
    "    diagonals=[tmp1,tmp2,tmp1] #the diagonals of the force matrix\n",
    "    A=diags(diagonals,[-1,0,1]).todense()\n",
    "    return(A)\n",
    "\n",
    "A=CreateForceMatrix(N)"
   ]
  },
  {
   "cell_type": "code",
   "execution_count": null,
   "metadata": {},
   "outputs": [],
   "source": []
  },
  {
   "cell_type": "markdown",
   "metadata": {},
   "source": [
    "Update the force matrix considering all boundary conditions"
   ]
  },
  {
   "cell_type": "code",
   "execution_count": 92,
   "metadata": {},
   "outputs": [],
   "source": [
    "def ForceMatrixBoundaryCond(A, bc, N):\n",
    "    if bc==2: #open ends\n",
    "        A[0,0]=1\n",
    "        A[N-1,N-1]=1\n",
    "    elif bc==1: #fixed ends\n",
    "        A[0,0]=- 2 # this will generate negative eigenvalues, to be removed below\n",
    "        A[N-1,N-1]=- 2\n",
    "        A[1,0]=0\n",
    "        A[0,1]=0\n",
    "        A[N - 2,N-1]=0\n",
    "        A[N-1,N - 2]=0\n",
    "    else: #periodic boundary cond.\n",
    "        A[0,N-1]=- 1\n",
    "        A[N-1,0]=- 1\n",
    "    return(A)\n",
    "A=ForceMatrixBoundaryCond(A, bc, N)    "
   ]
  },
  {
   "cell_type": "markdown",
   "metadata": {},
   "source": [
    "Create mass matrix, take care of impurities"
   ]
  },
  {
   "cell_type": "code",
   "execution_count": 115,
   "metadata": {},
   "outputs": [],
   "source": [
    "def CreateMassMatrix(N, M1, M2, Nimp, Mimp, imp_enabled):\n",
    "    Nimp=Nimp+1 #Python counts from 0\n",
    "    B=np.zeros(shape=(N,N)) #diags([1]*N,0).todense()\n",
    "    for i in range(N):\n",
    "        if i%2 == 0: #if even\n",
    "            B[i,i]=1 / M1\n",
    "        else:\n",
    "            B[i,i]=1 / M2\n",
    "\n",
    "    if imp_enabled:\n",
    "        B[Nimp,Nimp]=1 / Mimp\n",
    "    return(B)\n",
    "\n",
    "B = CreateMassMatrix(N, M1, M2, Nimp, Mimp, imp_enabled)"
   ]
  },
  {
   "cell_type": "markdown",
   "metadata": {},
   "source": [
    "### Solve the eigenvalue equation\n",
    "We get *omega* - eigenfrequecies and V - the vector of all displacements *u*\n",
    "\n",
    "Set number of modes for fixed b.c. this number will be reduced by 2 as we remove negative eigenvalues (Two of the atoms don't move)"
   ]
  },
  {
   "cell_type": "code",
   "execution_count": 94,
   "metadata": {},
   "outputs": [],
   "source": [
    "def EigenEq(A, B, C, bc, N):\n",
    "    A1=np.dot(C*B,A)\n",
    "    D,V=eig(A1)\n",
    "    D=np.real(D)\n",
    "    Nmodes=N\n",
    "    # Find negative eigenvalues and remove these eigenvectors/-values for fixed b.c\n",
    "    if bc==1:\n",
    "        for k in range(2):\n",
    "            neg=-1  \n",
    "            for i in range(Nmodes):\n",
    "                if (D[i] < - 1e-06) & (neg == -1):\n",
    "                    neg=i\n",
    "            # remove the two negative modes, both eigenvalue and eigenvector\n",
    "            D=np.concatenate([D[:(neg)],D[(neg+1):]])\n",
    "            V=np.concatenate([V[:,:(neg)],V[:,(neg+1):]],axis=1)\n",
    "            Nmodes=Nmodes - 1\n",
    "            \n",
    "    omega=np.sqrt(np.abs(D))   #####Abs because D can be slightly negative ex. -6.10622664e-16\n",
    "    #sort the eigenvalues and eigenmodes according to the eigenvalues\n",
    "    ind=np.argsort(omega)\n",
    "    omega=np.sort(omega)\n",
    "    V=V[:,ind]\n",
    "            \n",
    "    return(omega, V, Nmodes)\n",
    "omega, V, Nmodes = EigenEq(A, B, C, bc, N)"
   ]
  },
  {
   "cell_type": "code",
   "execution_count": null,
   "metadata": {},
   "outputs": [],
   "source": []
  },
  {
   "cell_type": "code",
   "execution_count": 97,
   "metadata": {},
   "outputs": [],
   "source": [
    "# take some care if eigenvalue is first or last in vector\n",
    "# =============================================================================\n",
    "#             if neg == 1:\n",
    "#                 D=D[1:]\n",
    "#                 V=V[1:,:]\n",
    "#             else:\n",
    "#                 if neg == Nmodes:\n",
    "#                     D=D[:(Nmodes - 1)]\n",
    "#                     V=V[:(Nmodes-1),:]\n",
    "#                 else:\n",
    "#                     if neg != 0:\n",
    "# ============================================================================="
   ]
  },
  {
   "cell_type": "code",
   "execution_count": null,
   "metadata": {},
   "outputs": [],
   "source": []
  },
  {
   "cell_type": "code",
   "execution_count": null,
   "metadata": {},
   "outputs": [],
   "source": []
  },
  {
   "cell_type": "markdown",
   "metadata": {},
   "source": [
    "### Discrete fourier transform\n",
    "We use Fast fourier transform algorithm (*fft* function) to implement the discrete fourier transform.\n",
    "* For the case of *fixed ends* boundary conditions the smallest wave possible can be a wave with the wavelength *2*\\(N-1)* - the wave can be antisymetric with the wave outside. This is why we are looking for *2*\\(N-1)* wave number, but taking at the end only the first *Nmodes* possible ones.\n",
    "* For the case of *open ends* - the real periodicity is *2*\\N*\n",
    "* For periodic boundary conditions, the periodicity is *N* but we cut *np.floor(N/2)* <- **?????** \n",
    "Ech frequency except zero is doubly degenerate with +K and -K solutions (moving in opposite directions)\n",
    "\n",
    "Don't get imag of coefficients //Andris **Need to check the open ends if it is symetric**\n"
   ]
  },
  {
   "cell_type": "code",
   "execution_count": 98,
   "metadata": {},
   "outputs": [],
   "source": [
    "def FourierTransform(bc,V, N, Nmodes):\n",
    "    if bc==2: #open ended\n",
    "        wavemax=Nmodes \n",
    "        Kk=np.fft.fft(V,2*N,axis=0)\n",
    "        Kk=Kk[:int(wavemax) + 1,:Nmodes]\n",
    "        Ksq=np.real(Kk*np.conj(Kk))\n",
    "        Karg=np.angle(Kk)\n",
    "    elif bc==1: #fixed imaginary part turns out to work better. Still don't get why\n",
    "        wavemax=Nmodes\n",
    "        Kk=np.imag(np.fft.fft(V,2*(N - 1),axis=0))\n",
    "        Kk=Kk[:wavemax + 1,:Nmodes]\n",
    "        Ksq=Kk*Kk\n",
    "        Karg='NA'\n",
    "        #Karg=Na\n",
    "    else: #periodic\n",
    "        wavemax=np.floor(N / 2)\n",
    "        Kk=np.fft.fft(V,N,axis=0)\n",
    "        Kk=Kk[:int(wavemax) + 1,:Nmodes]\n",
    "        Ksq=np.real(Kk*np.conj(Kk)) #can be a bit negative\n",
    "        Karg=np.angle(Kk)\n",
    "    \n",
    "    Ka=np.argmax(Ksq,axis=0)\n",
    "    #mx=np.max(Ksq,axis=0)#this one we don't need\n",
    "    return(Ka, Karg) #maybe Kk, \n",
    "Ka, Karg = FourierTransform(bc, V, N, Nmodes)"
   ]
  },
  {
   "cell_type": "code",
   "execution_count": 99,
   "metadata": {},
   "outputs": [],
   "source": [
    "# Ksq1=np.imag(Kk)*np.imag(Kk)\n",
    "# Ksq2=np.real(Kk*np.conj(Kk))\n",
    "\n",
    "# plt.plot(Ksq1[:,0])\n",
    "# plt.plot(Ksq2[:,0])\n",
    "\n",
    "# #plt.plot(np.imag(Ksq1[:,1]))\n",
    "#plt.plot(np.imag(Ksq2[:,1]))\n",
    "#plt.plot(np.real(Ksq1[:,1]))\n",
    "#plt.plot(np.real(Ksq2[:,1]))"
   ]
  },
  {
   "cell_type": "code",
   "execution_count": 100,
   "metadata": {},
   "outputs": [],
   "source": [
    "# %%capture \n",
    "# fig, ax = plt.subplots();\n",
    "# #wavemax=np.floor(N / 2)\n",
    "# Ksq=Kk*Kk\n",
    "# ax.plot(np.real(Ksq[:,1]))\n",
    "# ax.plot(np.real(Ksq[:,2]))\n",
    "# #ax.plot(np.real(V[:,1]))\n",
    "# #ax.plot(np.real(V[:,2]))\n",
    "# fig"
   ]
  },
  {
   "cell_type": "code",
   "execution_count": 103,
   "metadata": {
    "scrolled": true
   },
   "outputs": [],
   "source": [
    "#plt.plot(Ksq[:,])"
   ]
  },
  {
   "cell_type": "markdown",
   "metadata": {},
   "source": []
  },
  {
   "cell_type": "markdown",
   "metadata": {},
   "source": [
    "###Bunch of boring but important manipulations with the results.\n",
    "* For periodic boundary conditions we have doubly degenerate levels. If we have degenerate levels: give that one with the smallest phase angle a plus sign and the other a minus sign.\n",
    "* *Ka* values from the fft are only positive. Here we correct the signs filling up the dispersion plot\n",
    "* Give the corect amplitude for *Ka*"
   ]
  },
  {
   "cell_type": "code",
   "execution_count": 104,
   "metadata": {},
   "outputs": [],
   "source": [
    "##set Ka to the index of the biggest squared coefficient\n",
    "def CorrectOmega(Ka, Karg, Nmodes, V, omega, bc, M1, M2, N):\n",
    "    if not(Nmodes): #if Nmodes = 0 (case when bc=1 and N=2) gives an error\n",
    "        maxi=0\n",
    "    else:\n",
    "        maxi=np.argmax(Ka)\n",
    "\n",
    "    if bc == 0:\n",
    "        for j in range(Nmodes-1):\n",
    "            if np.abs(omega[j] - omega[j + 1]) < 1e-06: #if both omegas \"almost\"\" equal\n",
    "                v1=Karg[Ka[j],j]\n",
    "                v2=Karg[Ka[j+1],j + 1]\n",
    "                diff=v2 - v1\n",
    "                if diff < - np.pi:\n",
    "                    diff=diff + 2*np.pi\n",
    "                elif diff > np.pi:\n",
    "                        diff=diff - 2*np.pi\n",
    "                if diff > 0 or not((maxi+1)%2 < 0): #those where maxi+1 is even Ka will be -Ka, see below in this sec.\n",
    "                    V[:,j]=- V[:,j]\n",
    "                if np.abs(np.abs(diff) - np.pi / 2) > 1e-06:\n",
    "                    # make them both orthonormal (supposes normated vectors)\n",
    "                    V[:,j + 1]=V[:,j + 1] - V[:,j]*np.dot(V[:,j + 1],V[:,j])\n",
    "                    V[:,j + 1]=V[:,j + 1] / np.sqrt(np.dot(V[:,j + 1],V[:,j + 1]))\n",
    "\n",
    "                    \n",
    "    for i in range(Nmodes):\n",
    "        if not((maxi + i)%2): #if is even\n",
    "            Ka[i]=- Ka[i]\n",
    "\n",
    "    # set correct magnitude of Ka        \n",
    "    if bc==1:\n",
    "        Ka=Ka*np.pi / (N - 1)\n",
    "    else:\n",
    "        Ka=Ka*2*np.pi / N\n",
    "\n",
    "    #The high Ka values () belong to \n",
    "    if M1 != M2:\n",
    "        Ka=Ka*2\n",
    "        for i in range(Nmodes):\n",
    "            if np.abs(Ka[i]) > np.pi:\n",
    "                Ka[i]=np.sign(Ka[i])*(np.abs(Ka[i]) - 2*np.pi)\n",
    "\n",
    "    #correct sign if the last Ka is on the right boundary to the left side (we define our interval of Ka: [-pi/a, pi/a) )\n",
    "    for i in range(Nmodes):\n",
    "        if np.abs(Ka[i] - np.pi) < 1e-06:\n",
    "            Ka[i]=- Ka[i]\n",
    "    return(V,omega, Ka )\n",
    "\n",
    "V,omega, Ka=CorrectOmega(Ka, Karg, Nmodes, V, omega, bc, M1, M2, N) "
   ]
  },
  {
   "cell_type": "code",
   "execution_count": 105,
   "metadata": {},
   "outputs": [],
   "source": [
    "# plt.plot(Ka)\n",
    "# plt.plot(omega)"
   ]
  },
  {
   "cell_type": "markdown",
   "metadata": {},
   "source": [
    "### set amplitude proportional to classical amplitude of one excitation"
   ]
  },
  {
   "cell_type": "code",
   "execution_count": 106,
   "metadata": {},
   "outputs": [],
   "source": [
    "def CorrectAmplitude(V,omega,C,N):\n",
    "    Vdiff=V[:(N-1),:]-V[1:N,:]\n",
    "    if bc==0:\n",
    "        Vdiff=np.vstack((Vdiff[:(N-1),:],V[(N-1),:] - V[0,:]))\n",
    "\n",
    "    Vdiff=V[:(N-1),:]-V[1:N,:]\n",
    "    if bc==0:\n",
    "        Vdiff = np.vstack((Vdiff[:(N-1),:],V[(N-1),:] - V[0,:]))\n",
    "    Vdiff=np.diag(np.dot(np.transpose(Vdiff),Vdiff)).copy()\n",
    "\n",
    "    if Nmodes!=0:   #Otherwise give error, because no such element\n",
    "        if Vdiff[0] < 1e-06:\n",
    "            Vdiff[0]=1\n",
    "\n",
    "    A=4*np.sqrt(2*omega / (C*Vdiff))\n",
    "    V=np.dot(V,diags(A,0).todense())\n",
    "    return(A,V)\n",
    "A,V=CorrectAmplitude(V,omega,C,N)"
   ]
  },
  {
   "cell_type": "code",
   "execution_count": 107,
   "metadata": {},
   "outputs": [
    {
     "data": {
      "text/plain": [
       "array([ 0.        ,  0.        ,  1.25663706, -2.51327412,  2.51327412,\n",
       "        2.51327412, -2.51327412,  2.51327412, -1.25663706, -0.        ])"
      ]
     },
     "execution_count": 107,
     "metadata": {},
     "output_type": "execute_result"
    }
   ],
   "source": [
    "Ka"
   ]
  },
  {
   "cell_type": "markdown",
   "metadata": {},
   "source": [
    "### Analytic solution of the dispersion relation"
   ]
  },
  {
   "cell_type": "code",
   "execution_count": 75,
   "metadata": {},
   "outputs": [],
   "source": [
    "#%%capture \n",
    "#capture - so that the plot does not get displayed\n",
    "#plt.ioff()\n",
    "\n",
    "\n",
    "#fig\n",
    "#plt.close()\n"
   ]
  },
  {
   "cell_type": "code",
   "execution_count": 76,
   "metadata": {},
   "outputs": [],
   "source": [
    "def Analytic(C,M1,M2, omega, Ka):\n",
    "    fig, ax = plt.subplots();\n",
    "    ax.plot(Ka,omega,'bo',label=['simulation']);\n",
    "    ka =np.linspace(-np.pi,np.pi,100);\n",
    "    if M1==M2:\n",
    "        analytic = np.sqrt(4*C/M1)*np.abs(np.sin(ka/2))\n",
    "        ax.plot(ka, analytic,label=['analytic'] )\n",
    "    else:\n",
    "        MM = (M1+M2)/(M1*M2)\n",
    "        analytic1 = np.sqrt(C*MM * (1 + np.sqrt(1-2/MM/(M1+M2)*(1-np.cos(ka)))))\n",
    "        analytic2 = np.sqrt(C*MM * (1 - np.sqrt(1-2/MM/(M1+M2)*(1-np.cos(ka)))))\n",
    "        ax.plot(ka,analytic1,label=['analytic acustic'])\n",
    "        ax.plot(ka,analytic2,label=['analytic optical'])\n",
    "    ax.legend(loc='lower left')\n",
    "    fig\n",
    "        #if M1=M2:\n",
    "#    ax.plot(xa,analytic1,label=['analytic'])\n",
    "#else:\n",
    "# Analytic(C,M1,M2)\n",
    "# fig"
   ]
  },
  {
   "cell_type": "code",
   "execution_count": null,
   "metadata": {},
   "outputs": [],
   "source": []
  },
  {
   "cell_type": "markdown",
   "metadata": {},
   "source": [
    "The one below does not work for me"
   ]
  },
  {
   "cell_type": "code",
   "execution_count": 77,
   "metadata": {},
   "outputs": [
    {
     "data": {
      "application/vnd.jupyter.widget-view+json": {
       "model_id": "89b438341c254e4fa80c8d42813735a8",
       "version_major": 2,
       "version_minor": 0
      },
      "text/plain": [
       "IntSlider(value=10, description='number of atoms', max=500, min=2)"
      ]
     },
     "metadata": {},
     "output_type": "display_data"
    },
    {
     "data": {
      "application/vnd.jupyter.widget-view+json": {
       "model_id": "c6e0d287b89948a1bdeaca8b27d93840",
       "version_major": 2,
       "version_minor": 0
      },
      "text/plain": [
       "Button(description='>', style=ButtonStyle())"
      ]
     },
     "metadata": {},
     "output_type": "display_data"
    },
    {
     "data": {
      "application/vnd.jupyter.widget-view+json": {
       "model_id": "77d721dfdceb40f182d36458f92ccc9b",
       "version_major": 2,
       "version_minor": 0
      },
      "text/plain": [
       "Button(description='<', style=ButtonStyle())"
      ]
     },
     "metadata": {},
     "output_type": "display_data"
    },
    {
     "data": {
      "application/vnd.jupyter.widget-view+json": {
       "model_id": "d13e84966b7048daab529ff8ca70e8b2",
       "version_major": 2,
       "version_minor": 0
      },
      "text/plain": [
       "Output()"
      ]
     },
     "metadata": {},
     "output_type": "display_data"
    },
    {
     "data": {
      "application/vnd.jupyter.widget-view+json": {
       "model_id": "bfe299e21d0b40f089b5ce40201e9836",
       "version_major": 2,
       "version_minor": 0
      },
      "text/plain": [
       "Dropdown(description='Boundary conditions:', options=('periodic', 'fixed ends', 'open ends'), value='periodic'…"
      ]
     },
     "metadata": {},
     "output_type": "display_data"
    },
    {
     "data": {
      "text/plain": [
       "'periodic'"
      ]
     },
     "execution_count": 77,
     "metadata": {},
     "output_type": "execute_result"
    }
   ],
   "source": [
    "Nslider = widgets.IntSlider(\n",
    "    value=10, description=\"number of atoms\", min=2, max=500)\n",
    "display(Nslider)\n",
    "btnDown = widgets.Button(description='<')\n",
    "btnUp = widgets.Button(description='>')\n",
    "output2 = widgets.Output()\n",
    "\n",
    "def Lower_value(btn_object):\n",
    "    Nslider.value = Nslider.value-1\n",
    "\n",
    "btnDown.on_click(Lower_value)\n",
    "\n",
    "def Raise_value(btn_object):\n",
    "    Nslider.value = Nslider.value+1\n",
    "\n",
    "btnUp.on_click(Raise_value)\n",
    "\n",
    "N = Nslider.value\n",
    "def changeNvalue(change, M1, m2, C):\n",
    "    imp_enabled=0\n",
    "    Nimp=3\n",
    "    Mimp=2\n",
    "    bc=1\n",
    "    with output2:\n",
    "        N = change['new']\n",
    "        A=CreateForceMatrix(N)\n",
    "        A = ForceMatrixBoundaryCond(A, bc, N)\n",
    "        B = CreateMassMatrix(N, M1, M2, Nimp, Mimp)\n",
    "        omega, V, Nmodes = EigenEq(A, B, C, bc, N)\n",
    "        Ka, Karg = FourierTransform(bc,V, N, Nmodes)\n",
    "        V,omega, Ka=CorrectOmega(Ka, Karg, Nmodes, V, omega, bc, M1, M2, N)\n",
    "        A,V=CorrectAmplitude(V,omega,C,N)\n",
    "        fig, ax = plt.subplots();\n",
    "        ax.plot(Ka,omega,'bo',label=['simulation']);\n",
    "        Analytic(C,M1,M2, omega, Ka)\n",
    "        #plt.show()\n",
    "\n",
    "Nslider.observe(changeNvalue, 'value')\n",
    "\n",
    "bcDropdown=widgets.Dropdown(\n",
    "    options=['periodic', 'fixed ends', 'open ends'],\n",
    "    value='periodic',\n",
    "    description='Boundary conditions:',\n",
    "    disabled=False,\n",
    ")\n",
    "display(btnUp, btnDown, output2, bcDropdown)\n",
    "bc=bcDropdown.value\n",
    "bcDropdown.value"
   ]
  },
  {
   "cell_type": "code",
   "execution_count": 116,
   "metadata": {},
   "outputs": [
    {
     "data": {
      "application/vnd.jupyter.widget-view+json": {
       "model_id": "f123ec8d8022405786ca3b73b02c4c2a",
       "version_major": 2,
       "version_minor": 0
      },
      "text/plain": [
       "interactive(children=(IntSlider(value=10, description='N', max=50, min=2, step=2), FloatSlider(value=1.0, desc…"
      ]
     },
     "metadata": {},
     "output_type": "display_data"
    }
   ],
   "source": [
    "def update(N=10, C=1 ,bc=0, M1=1, M2=1,imp_enabled=0,Nimp=3,Mimp=1):\n",
    "    #if M1!=M2 & N%2==1:\n",
    "    #    N=N+1\n",
    "    A=CreateForceMatrix(N)\n",
    "    A = ForceMatrixBoundaryCond(A, bc, N)\n",
    "    B = CreateMassMatrix(N, M1, M2, Nimp, Mimp,imp_enabled)\n",
    "    omega, V, Nmodes = EigenEq(A, B, C, bc, N)\n",
    "    Ka, Karg = FourierTransform(bc,V, N, Nmodes)\n",
    "    V,omega, Ka=CorrectOmega(Ka, Karg, Nmodes, V, omega, bc, M1, M2, N)\n",
    "    A,V=CorrectAmplitude(V,omega,C,N)\n",
    "    #print(omega)\n",
    "    #print(Ka)\n",
    "    #fig, ax = plt.subplots();\n",
    "    #ax.plot(Ka,omega,'bo',label=['simulation']);\n",
    "    #fig\n",
    "    Analytic(C,M1,M2, omega, Ka)\n",
    "    #fig\n",
    "    #plt.plot(V[:,])\n",
    "    #plt.plot(omega)\n",
    "    #trace0 = Scatter(\n",
    "    #    y=omega\n",
    "    #)\n",
    "    #data = [trace0]\n",
    "    #iplot(data, filename = 'basic-line')\n",
    "    #plt.plot(Ka)\n",
    "    #scatter = f.data[0]\n",
    "    #scatter.y = omega\n",
    "    \n",
    "#    print(bc)\n",
    "interact(update, N=(2,50,2), M1=(0.1,5,0.1),M2=(0.1,5,0.1),Mimp=(0.1,5,0.1),Nimp=(1,10,1), C=(0.2,10,0.2),imp_enabled=[('impurity disabled', 0), ('impurity enabled', 1)],bc=[('periodic', 0), ('fixed ends', 1), ('open ends', 2)]);"
   ]
  },
  {
   "cell_type": "code",
   "execution_count": 79,
   "metadata": {},
   "outputs": [],
   "source": [
    "# plt.plot(omega)\n",
    "# trace0 = Scatter(\n",
    "#     y=omega\n",
    "# )\n",
    "# data = [trace0]\n",
    "# iplot(data, filename = 'basic-line')"
   ]
  },
  {
   "cell_type": "code",
   "execution_count": 80,
   "metadata": {},
   "outputs": [],
   "source": [
    "\n",
    "# A=CreateForceMatrix(N)\n",
    "# A = ForceMatrixBoundaryCond(A, bc, N)\n",
    "# B = CreateMassMatrix(N, M1, M2, Nimp, Mimp)\n",
    "# omega, V, Nmodes = EigenEq(A, B, C, bc, N)\n",
    "# Ka, Karg = FourierTransform(bc,V, N, Nmodes)\n",
    "# V,omega, Ka=CorrectOmega(Ka, Karg, Nmodes, V, omega, bc, M1, M2, N)\n",
    "# A,V=CorrectAmplitude(V,omega,C,N)\n",
    "# fig, ax = plt.subplots();\n",
    "# ax.plot(Ka,omega,'bo',label=['simulation']);\n",
    "# #fig\n",
    "# #Analytic(C,M1,M2)\n",
    "# #fig\n",
    "# #plt.plot(V[:,])\n",
    "# #plt.plot(omega)\n",
    "# #plt.plot(Ka)\n",
    "# print(bc)\n"
   ]
  },
  {
   "cell_type": "code",
   "execution_count": null,
   "metadata": {},
   "outputs": [],
   "source": []
  },
  {
   "cell_type": "code",
   "execution_count": null,
   "metadata": {},
   "outputs": [],
   "source": []
  }
 ],
 "metadata": {
  "kernelspec": {
   "display_name": "Python 3",
   "language": "python",
   "name": "python3"
  },
  "language_info": {
   "codemirror_mode": {
    "name": "ipython",
    "version": 3
   },
   "file_extension": ".py",
   "mimetype": "text/x-python",
   "name": "python",
   "nbconvert_exporter": "python",
   "pygments_lexer": "ipython3",
   "version": "3.6.9"
  },
  "varInspector": {
   "cols": {
    "lenName": 16,
    "lenType": 16,
    "lenVar": 40
   },
   "kernels_config": {
    "python": {
     "delete_cmd_postfix": "",
     "delete_cmd_prefix": "del ",
     "library": "var_list.py",
     "varRefreshCmd": "print(var_dic_list())"
    },
    "r": {
     "delete_cmd_postfix": ") ",
     "delete_cmd_prefix": "rm(",
     "library": "var_list.r",
     "varRefreshCmd": "cat(var_dic_list()) "
    }
   },
   "position": {
    "height": "253px",
    "left": "996px",
    "right": "20px",
    "top": "120px",
    "width": "350px"
   },
   "types_to_exclude": [
    "module",
    "function",
    "builtin_function_or_method",
    "instance",
    "_Feature"
   ],
   "window_display": false
  }
 },
 "nbformat": 4,
 "nbformat_minor": 2
}
