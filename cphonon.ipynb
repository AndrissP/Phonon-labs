{
 "cells": [
  {
   "cell_type": "markdown",
   "metadata": {},
   "source": [
    "# cphonon function\n",
    "### Authors\n",
    "Written in matlab by Anders Blom, *1999*\n",
    "Improved by Björn Samuelsson, *2000*\n",
    "Converted to python Andris Potrebko *2019*"
   ]
  },
  {
   "cell_type": "markdown",
   "metadata": {},
   "source": [
    "# Here I am just playing around with widgets"
   ]
  },
  {
   "cell_type": "code",
   "execution_count": 1,
   "metadata": {},
   "outputs": [],
   "source": [
    "# x=5\n",
    "# slider = widgets.IntSlider()\n",
    "# slider.value = x\n",
    "# def on_change(v):\n",
    "#    global x\n",
    "#    T = v['new'] \n",
    "# slider.observe(on_change, names='value')\n",
    "# display(slider)"
   ]
  },
  {
   "cell_type": "code",
   "execution_count": 2,
   "metadata": {},
   "outputs": [],
   "source": [
    "%matplotlib inline\n",
    "%matplotlib notebook\n",
    "\n",
    "from scipy.sparse import diags\n",
    "import numpy as np\n",
    "from scipy.linalg import eig\n",
    "from matplotlib import pyplot as plt\n",
    "import ipywidgets as widgets\n",
    "from ipywidgets import interact, interactive\n",
    "\n",
    "from IPython.display import display #Java - not there anymore for running cells from widgits\n",
    "\n",
    "# For plots being displaied right under the shell\n",
    "#import scipy as sp\n",
    "\n",
    "# pretty print all cell's output and not just the last one\n",
    "from IPython.core.interactiveshell import InteractiveShell\n",
    "InteractiveShell.ast_node_interactivity = \"all\"\n",
    "\n",
    "###Plotly Not sure if works\n",
    "# from plotly.offline import init_notebook_mode, iplot\n",
    "# from plotly.graph_objs import *"
   ]
  },
  {
   "cell_type": "code",
   "execution_count": 3,
   "metadata": {
    "scrolled": false
   },
   "outputs": [],
   "source": [
    "# %matplotlib notebook\n",
    "# %matplotlib notebook\n",
    "# from matplotlib import pyplot as plt\n",
    "# x = np.linspace(0, 2 * np.pi)\n",
    "# fig = plt.figure()\n",
    "# ax = fig.add_subplot(1, 1, 1)\n",
    "# line, = ax.plot(x, np.sin(x))\n",
    "\n",
    "# def update(w = 1.0):\n",
    "#     line.set_ydata(np.sin(w * x))\n",
    "#     fig.canvas.draw_idle()\n",
    "\n",
    "# interact(update);"
   ]
  },
  {
   "cell_type": "markdown",
   "metadata": {},
   "source": [
    "# Real code starts here"
   ]
  },
  {
   "cell_type": "markdown",
   "metadata": {},
   "source": [
    "### Some initial values"
   ]
  },
  {
   "cell_type": "code",
   "execution_count": 4,
   "metadata": {},
   "outputs": [],
   "source": [
    "N = 10\n",
    "M1 = 0.5\n",
    "M2 = 1\n",
    "C = 1\n",
    "imp_enabled = 0\n",
    "Nimp = 5\n",
    "Mimp = 5\n",
    "bc = 0"
   ]
  },
  {
   "cell_type": "markdown",
   "metadata": {},
   "source": [
    "Create force matrix, with 2 on the diagonal and -1 on each side\n"
   ]
  },
  {
   "cell_type": "code",
   "execution_count": 5,
   "metadata": {},
   "outputs": [],
   "source": [
    "def CreateForceMatrix(N):\n",
    "    tmp1 = [-1]*(N-1)\n",
    "    tmp2 = [2]*N\n",
    "    diagonals = [tmp1, tmp2, tmp1]  # the diagonals of the force matrix\n",
    "    A = diags(diagonals, [-1, 0, 1]).todense()\n",
    "    return(A)\n",
    "A = CreateForceMatrix(N)"
   ]
  },
  {
   "cell_type": "code",
   "execution_count": 6,
   "metadata": {},
   "outputs": [],
   "source": [
    "#A"
   ]
  },
  {
   "cell_type": "markdown",
   "metadata": {},
   "source": [
    "Update the force matrix considering all boundary conditions"
   ]
  },
  {
   "cell_type": "code",
   "execution_count": 7,
   "metadata": {},
   "outputs": [],
   "source": [
    "def ForceMatrixBoundaryCond(A, bc, N):\n",
    "    if bc == 2:  # open ends\n",
    "        A[0, 0] = 1\n",
    "        A[N-1, N-1] = 1\n",
    "    elif bc == 1:  # fixed ends\n",
    "        A[0, 0] = - 2  # this will generate negative eigenvalues, to be removed below\n",
    "        A[N-1, N-1] = - 2\n",
    "        A[1, 0] = 0\n",
    "        A[0, 1] = 0\n",
    "        A[N - 2, N-1] = 0\n",
    "        A[N-1, N - 2] = 0\n",
    "    else:  # periodic boundary cond.\n",
    "        A[0, N-1] = - 1\n",
    "        A[N-1, 0] = - 1\n",
    "    return(A)\n",
    "A = ForceMatrixBoundaryCond(A, bc, N)"
   ]
  },
  {
   "cell_type": "code",
   "execution_count": 8,
   "metadata": {},
   "outputs": [],
   "source": [
    "#A"
   ]
  },
  {
   "cell_type": "markdown",
   "metadata": {},
   "source": [
    "Create mass matrix, take care of impurities"
   ]
  },
  {
   "cell_type": "code",
   "execution_count": 9,
   "metadata": {},
   "outputs": [],
   "source": [
    "def CreateMassMatrix(N, M1, M2, Nimp, Mimp, imp_enabled):\n",
    "    Nimp = Nimp-1  # Python counts from 0\n",
    "    B = np.zeros(shape=(N, N))  # diags([1]*N,0).todense()\n",
    "    for i in range(N):\n",
    "        if i % 2 == 0:  # if even\n",
    "            B[i, i] = 1 / M1\n",
    "        else:\n",
    "            B[i, i] = 1 / M2\n",
    "\n",
    "    if imp_enabled:\n",
    "        B[Nimp, Nimp] = 1 / Mimp\n",
    "    return(B)\n",
    "B = CreateMassMatrix(N, M1, M2, Nimp, Mimp, imp_enabled)"
   ]
  },
  {
   "cell_type": "code",
   "execution_count": 10,
   "metadata": {},
   "outputs": [],
   "source": [
    "#B"
   ]
  },
  {
   "cell_type": "code",
   "execution_count": null,
   "metadata": {},
   "outputs": [],
   "source": []
  },
  {
   "cell_type": "markdown",
   "metadata": {},
   "source": [
    "### Solve the eigenvalue equation\n",
    "We get *omega* - eigenfrequecies and V - the vector of all displacements *u*\n",
    "\n",
    "Set number of modes for fixed b.c. this number will be reduced by 2 as we remove negative eigenvalues (Two of the atoms don't move)"
   ]
  },
  {
   "cell_type": "code",
   "execution_count": 11,
   "metadata": {},
   "outputs": [],
   "source": [
    "def EigenEq(A, B, C, bc, N):\n",
    "    A1 = np.dot(C*B, A)\n",
    "    D, V = eig(A1)\n",
    "    D = np.real(D)\n",
    "    Nmodes = N\n",
    "    # Find negative eigenvalues and remove corresponding eigenvectors/-values for fixed b.c\n",
    "    if bc == 1:\n",
    "        for k in range(2):\n",
    "            neg = -1\n",
    "            for i in range(Nmodes):\n",
    "                if ((D[i] < -1e-06) & (neg == -1)):\n",
    "                    neg = i\n",
    "            D = np.concatenate([D[:(neg)], D[(neg+1):]])\n",
    "            V = np.concatenate([V[:, :(neg)], V[:, (neg+1):]], axis=1)\n",
    "            Nmodes = Nmodes - 1\n",
    "\n",
    "    # Abs because D can be slightly negative ex. -6.10622664e-16\n",
    "    omega = np.sqrt(np.abs(D))\n",
    "    # sort the eigenvalues and eigenmodes according to the eigenvalues\n",
    "    ind = np.argsort(omega)\n",
    "    omega = np.sort(omega)\n",
    "    V = V[:, ind]\n",
    "\n",
    "    return(omega, V, Nmodes)\n",
    "omega, V, Nmodes = EigenEq(A, B, C, bc, N)"
   ]
  },
  {
   "cell_type": "code",
   "execution_count": 12,
   "metadata": {},
   "outputs": [],
   "source": [
    "# \n",
    "# omega\n",
    "# V\n",
    "# Nmodes"
   ]
  },
  {
   "cell_type": "code",
   "execution_count": 13,
   "metadata": {},
   "outputs": [],
   "source": [
    "# take some care if eigenvalue is first or last in vector\n",
    "# =============================================================================\n",
    "#             if neg == 1:\n",
    "#                 D=D[1:]\n",
    "#                 V=V[1:,:]\n",
    "#             else:\n",
    "#                 if neg == Nmodes:\n",
    "#                     D=D[:(Nmodes - 1)]\n",
    "#                     V=V[:(Nmodes-1),:]\n",
    "#                 else:\n",
    "#                     if neg != 0:\n",
    "# ============================================================================="
   ]
  },
  {
   "cell_type": "code",
   "execution_count": null,
   "metadata": {},
   "outputs": [],
   "source": []
  },
  {
   "cell_type": "markdown",
   "metadata": {},
   "source": [
    "### Discrete fourier transform\n",
    "We use Fast fourier transform algorithm (*fft* function) to implement the discrete fourier transform.\n",
    "* For the case of *fixed ends* boundary conditions the smallest wave possible can be a wave with the wavelength *2*\\(N-1)* - the wave can be antisymetric with the wave outside. This is why we are looking for *2*\\(N-1)* wave number, but taking at the end only the first *Nmodes* possible ones.\n",
    "* For the case of *open ends* - the real periodicity is *2*\\N*\n",
    "* For periodic boundary conditions, the periodicity is *N* but we cut *np.floor(N/2)* <- **?????** \n",
    "Ech frequency except zero is doubly degenerate with +K and -K solutions (moving in opposite directions)\n",
    "\n",
    "Don't get imag of coefficients //Andris **Need to check the open ends if it is symetric**\n"
   ]
  },
  {
   "cell_type": "code",
   "execution_count": 14,
   "metadata": {},
   "outputs": [],
   "source": [
    "def FourierTransform(bc, V, N, Nmodes):\n",
    "    if bc == 2:  # open ended\n",
    "        wavemax = Nmodes\n",
    "        Kk = np.fft.fft(V, 2*N, axis=0)\n",
    "        Kk = Kk[:int(wavemax) + 1, :Nmodes]\n",
    "        Ksq = np.real(Kk*np.conj(Kk))\n",
    "        Karg = np.angle(Kk)\n",
    "    elif bc == 1:  # fixed imaginary part turns out to work better. Still don't get why\n",
    "        wavemax = Nmodes\n",
    "        Kk = np.imag(np.fft.fft(V, 2*(N - 1), axis=0))\n",
    "        Kk = Kk[:wavemax + 1, :Nmodes]\n",
    "        Ksq = Kk*Kk\n",
    "        Karg = 'NA'\n",
    "        # Karg=Na\n",
    "    else:  # periodic\n",
    "        wavemax = np.floor(N / 2)\n",
    "        Kk = np.fft.fft(V, N, axis=0)\n",
    "        Kk = Kk[:int(wavemax) + 1, :Nmodes]\n",
    "        Ksq = np.real(Kk*np.conj(Kk))  # can be a bit negative\n",
    "        Karg = np.angle(Kk)\n",
    "\n",
    "    Ka = np.argmax(Ksq, axis=0)\n",
    "    # mx=np.max(Ksq,axis=0)#this one we don't need\n",
    "    return(Ka, Karg)  # maybe Kk,\n",
    "Ka, Karg = FourierTransform(bc, V, N, Nmodes)"
   ]
  },
  {
   "cell_type": "code",
   "execution_count": 15,
   "metadata": {},
   "outputs": [],
   "source": [
    "# Ka\n",
    "# Karg"
   ]
  },
  {
   "cell_type": "code",
   "execution_count": 16,
   "metadata": {},
   "outputs": [],
   "source": [
    "# Ksq1=np.imag(Kk)*np.imag(Kk)\n",
    "# Ksq2=np.real(Kk*np.conj(Kk))\n",
    "\n",
    "# plt.plot(Ksq1[:,0])\n",
    "# plt.plot(Ksq2[:,0])\n",
    "\n",
    "# #plt.plot(np.imag(Ksq1[:,1]))\n",
    "#plt.plot(np.imag(Ksq2[:,1]))\n",
    "#plt.plot(np.real(Ksq1[:,1]))\n",
    "#plt.plot(np.real(Ksq2[:,1]))"
   ]
  },
  {
   "cell_type": "code",
   "execution_count": 17,
   "metadata": {},
   "outputs": [],
   "source": [
    "# %%capture \n",
    "# fig, ax = plt.subplots();\n",
    "# #wavemax=np.floor(N / 2)\n",
    "# Ksq=Kk*Kk\n",
    "# ax.plot(np.real(Ksq[:,1]))\n",
    "# ax.plot(np.real(Ksq[:,2]))\n",
    "# #ax.plot(np.real(V[:,1]))\n",
    "# #ax.plot(np.real(V[:,2]))\n",
    "# fig"
   ]
  },
  {
   "cell_type": "code",
   "execution_count": 18,
   "metadata": {
    "scrolled": true
   },
   "outputs": [],
   "source": [
    "# plt.plot(Ksq[:,])"
   ]
  },
  {
   "cell_type": "code",
   "execution_count": null,
   "metadata": {},
   "outputs": [],
   "source": []
  },
  {
   "cell_type": "markdown",
   "metadata": {},
   "source": []
  },
  {
   "cell_type": "markdown",
   "metadata": {},
   "source": [
    "###Bunch of boring but important manipulations with the results.\n",
    "* For periodic boundary conditions we have doubly degenerate levels. If we have degenerate levels: give that one with the smallest phase angle a plus sign and the other a minus sign.\n",
    "* *Ka* values from the fft are only positive. Here we correct the signs filling up the dispersion plot\n",
    "* Give the corect amplitude for *Ka*"
   ]
  },
  {
   "cell_type": "code",
   "execution_count": 19,
   "metadata": {},
   "outputs": [],
   "source": [
    "# set Ka to the index of the biggest squared coefficient\n",
    "def CorrectOmega(Ka, Karg, Nmodes, V, omega, bc, M1, M2, N):\n",
    "    if not(Nmodes):  # if Nmodes = 0 (case when bc=1 and N=2) gives an error\n",
    "        maxi = 0\n",
    "    else:\n",
    "        maxi = np.argmax(Ka)\n",
    "\n",
    "    if bc == 0:\n",
    "        for j in range(Nmodes-1):\n",
    "            if np.abs(omega[j] - omega[j + 1]) < 1e-06:  # if both omegas \"almost\"\" equal\n",
    "                v1 = Karg[Ka[j], j]\n",
    "                v2 = Karg[Ka[j+1], j + 1]\n",
    "                diff = v2 - v1\n",
    "                if diff < - np.pi:\n",
    "                    diff = diff + 2*np.pi\n",
    "                elif diff > np.pi:\n",
    "                    diff = diff - 2*np.pi\n",
    "                # those where maxi+1 is even Ka will be -Ka, see below in this sec.\n",
    "                if diff > 0 or not((maxi+1) % 2 < 0):\n",
    "                    V[:, j] = - V[:, j]\n",
    "                if np.abs(np.abs(diff) - np.pi / 2) > 1e-06:\n",
    "                    # make them both orthonormal (supposes normated vectors)\n",
    "                    V[:, j + 1] = V[:, j + 1] - V[:, j] * \\\n",
    "                        np.dot(V[:, j + 1], V[:, j])\n",
    "                    V[:, j + 1] = V[:, j + 1] / \\\n",
    "                        np.sqrt(np.dot(V[:, j + 1], V[:, j + 1]))\n",
    "\n",
    "    # Change sigh of every second Ka, depending on which is the maximum Ka\n",
    "    Ka[(maxi) % 2::2] = -Ka[(maxi) % 2::2]\n",
    "\n",
    "    # set correct magnitude of Ka\n",
    "    if bc == 1:\n",
    "        Ka = Ka*np.pi / (N - 1)\n",
    "    else:\n",
    "        Ka = Ka*2*np.pi / N\n",
    "\n",
    "    # The high Ka values () belong to\n",
    "    if M1 != M2:\n",
    "        Ka = Ka*2\n",
    "\n",
    "        for i in range(Nmodes):\n",
    "            if np.abs(Ka[i]) > np.pi:\n",
    "                Ka[i] = np.sign(Ka[i])*(np.abs(Ka[i]) - 2*np.pi)\n",
    "\n",
    "    # correct sign if the last Ka is on the right boundary to the left side (we define our interval of Ka: [-pi/a, pi/a) )\n",
    "    for i in range(Nmodes):\n",
    "        if np.abs(Ka[i] - np.pi) < 1e-06:\n",
    "            Ka[i] = - Ka[i]\n",
    "    return(V, omega, Ka)\n",
    "V, omega, Ka = CorrectOmega(Ka, Karg, Nmodes, V, omega, bc, M1, M2, N)"
   ]
  },
  {
   "cell_type": "code",
   "execution_count": 20,
   "metadata": {},
   "outputs": [],
   "source": [
    "#V\n",
    "#omega\n",
    "#Ka"
   ]
  },
  {
   "cell_type": "code",
   "execution_count": 21,
   "metadata": {},
   "outputs": [],
   "source": [
    "# Vdiff=V[:(N-1),:]-V[1:N,:]\n",
    "# if bc==0:\n",
    "#     Vdiff=np.vstack((Vdiff[:(N-1),:],V[(N-1),:] - V[0,:]))\n",
    "\n",
    "# Vdiff=V[:(N-1),:]-V[1:N,:]\n",
    "# if bc==0:\n",
    "#     Vdiff = np.vstack((Vdiff[:(N-1),:],V[(N-1),:] - V[0,:]))\n",
    "# Vdiff=np.diag(np.dot(np.transpose(Vdiff),Vdiff)).copy()\n",
    "\n",
    "# if Nmodes!=0:   #Otherwise give error, because no such element\n",
    "#     if Vdiff[0] < 1e-06:\n",
    "#         Vdiff[0]=1\n",
    "# Vdiff"
   ]
  },
  {
   "cell_type": "code",
   "execution_count": null,
   "metadata": {},
   "outputs": [],
   "source": []
  },
  {
   "cell_type": "markdown",
   "metadata": {},
   "source": [
    "### set amplitude proportional to classical amplitude of one excitation"
   ]
  },
  {
   "cell_type": "code",
   "execution_count": 22,
   "metadata": {},
   "outputs": [],
   "source": [
    "def CorrectAmplitude(V, omega, C, N):\n",
    "    Vdiff = V[:(N-1), :]-V[1:N, :]\n",
    "    if bc == 0:\n",
    "        Vdiff = np.vstack((Vdiff[:(N-1), :], V[(N-1), :] - V[0, :]))\n",
    "\n",
    "    Vdiff = V[:(N-1), :]-V[1:N, :]\n",
    "    if bc == 0: #Maybe if bc!=1, to incude open ends\n",
    "        Vdiff = np.vstack((Vdiff[:(N-1), :], V[(N-1), :] - V[0, :]))\n",
    "    Vdiff = np.diag(np.dot(np.transpose(Vdiff), Vdiff)).copy()\n",
    "\n",
    "    if Nmodes != 0:  # Otherwise it gives error, because no such element\n",
    "        if Vdiff[0] < 1e-06:\n",
    "            Vdiff[0] = 1\n",
    "\n",
    "    Ch = 4*np.sqrt(2*omega / (C*Vdiff))  \n",
    "    V = np.dot(V, diags(Ch, 0).todense())\n",
    "    return(V)\n",
    "\n",
    "\n",
    "V = CorrectAmplitude(V, omega, C, N)"
   ]
  },
  {
   "cell_type": "code",
   "execution_count": 23,
   "metadata": {},
   "outputs": [],
   "source": [
    "#V"
   ]
  },
  {
   "cell_type": "code",
   "execution_count": 24,
   "metadata": {},
   "outputs": [],
   "source": [
    "# Vdiff = V[:(N-1), :]-V[1:N, :]\n",
    "# if bc == 0:\n",
    "#     Vdiff = np.vstack((Vdiff[:(N-1), :], V[(N-1), :] - V[0, :]))\n",
    "\n",
    "# Vdiff = V[:(N-1), :]-V[1:N, :]\n",
    "# if bc == 0: #Maybe if bc!=1, to incude open ends\n",
    "#     Vdiff = np.vstack((Vdiff[:(N-1), :], V[(N-1), :] - V[0, :]))\n",
    "# Vdiff = np.diag(np.dot(np.transpose(Vdiff), Vdiff)).copy()\n",
    "\n",
    "# if Nmodes != 0:  # Otherwise it gives error, because no such element\n",
    "#     if Vdiff[0] < 1e-06:\n",
    "#         Vdiff[0] = 1\n",
    "# Ch = 4*np.sqrt(2*omega / (C*Vdiff))"
   ]
  },
  {
   "cell_type": "code",
   "execution_count": null,
   "metadata": {},
   "outputs": [],
   "source": []
  },
  {
   "cell_type": "code",
   "execution_count": null,
   "metadata": {},
   "outputs": [],
   "source": []
  },
  {
   "cell_type": "markdown",
   "metadata": {},
   "source": [
    "### Analytic solution of the dispersion relation"
   ]
  },
  {
   "cell_type": "code",
   "execution_count": 25,
   "metadata": {},
   "outputs": [],
   "source": [
    "# %%capture\n",
    "# capture - so that the plot does not get displayed\n",
    "# plt.ioff()\n",
    "\n",
    "\n",
    "# fig\n",
    "# plt.close()"
   ]
  },
  {
   "cell_type": "markdown",
   "metadata": {},
   "source": [
    "The guy bellow (function) plots dispersion plot from both data and the theoretical calculations"
   ]
  },
  {
   "cell_type": "code",
   "execution_count": 26,
   "metadata": {},
   "outputs": [],
   "source": [
    "def PlotDisp(C, M1, M2, omega, Ka, ax1):\n",
    "    #fig, ax = plt.subplots();\n",
    "    #global ax1\n",
    "    ax1.cla()\n",
    "    ax1.plot(Ka, omega, 'bo', label=['simulation'])\n",
    "    ka = np.linspace(-np.pi, np.pi, 100)\n",
    "    if M1 == M2:\n",
    "        analytic = np.sqrt(4*C/M1)*np.abs(np.sin(ka/2))\n",
    "        ax1.plot(ka, analytic, label=['analytic'])\n",
    "    else:\n",
    "        MM = (M1+M2)/(M1*M2)\n",
    "        analytic1 = np.sqrt(\n",
    "            C*MM * (1 + np.sqrt(1-2/MM/(M1+M2)*(1-np.cos(ka)))))\n",
    "        analytic2 = np.sqrt(\n",
    "            C*MM * (1 - np.sqrt(1-2/MM/(M1+M2)*(1-np.cos(ka)))))\n",
    "        ax1.plot(ka, analytic1, label=['analytic acustic'])\n",
    "        ax1.plot(ka, analytic2, label=['analytic optical'])\n",
    "    ax1.legend(loc='lower left')\n",
    "    # fig\n",
    "    # if M1=M2:\n",
    "#    ax.plot(xa,analytic1,label=['analytic'])\n",
    "# else:\n",
    "#PlotDisp(C,M1,M2, omega, Ka)\n",
    "# fig"
   ]
  },
  {
   "cell_type": "code",
   "execution_count": 27,
   "metadata": {},
   "outputs": [],
   "source": [
    "#fig, ax = plt.subplots(1,2,1);"
   ]
  },
  {
   "cell_type": "markdown",
   "metadata": {},
   "source": [
    "This guy plots dispacements at one specific given eigenmode"
   ]
  },
  {
   "cell_type": "code",
   "execution_count": 28,
   "metadata": {},
   "outputs": [],
   "source": [
    "def PlotEigenmode(V, ModeNr, M1, M2, ax2, imp_enabled, Mimp, Nimp):\n",
    "    #fig, ax = plt.subplots();\n",
    "    Nmodes=len(V[:, 1])\n",
    "    ax2.cla()\n",
    "    if M1 > M2:\n",
    "        mark1 = 11\n",
    "        mark2 = 6\n",
    "    elif M1 == M2:\n",
    "        mark1 = mark2 = 6\n",
    "    else:\n",
    "        mark1 = 6\n",
    "        mark2 = 11\n",
    "    marktype = 'bo' if M1 == M2 else 'go'\n",
    "    oddatoms = range(1, Nmodes+1, 2)\n",
    "    evenatoms = range(2, Nmodes+1, 2)\n",
    "    allatoms = range(1, Nmodes+1)\n",
    "    ax2.plot(oddatoms, V[::2, ModeNr], 'bo', markersize=mark1)\n",
    "    ax2.plot(evenatoms, V[1::2, ModeNr], marktype, markersize=mark2)\n",
    "    ax2.plot(allatoms, V[:, ModeNr], '-y')\n",
    "    if imp_enabled == 1:\n",
    "        ax2.plot(Nimp, V[Nimp-1, ModeNr], 'wo', markersize=11)\n",
    "        ax2.plot(Nimp, V[Nimp-1, ModeNr], 'ro', markersize=np.log(Mimp/M1+1.7)*7)"
   ]
  },
  {
   "cell_type": "markdown",
   "metadata": {},
   "source": [
    "Finnaly we will make the *__animation__*! We prepare function for the animation to be run later in animation.FuncAnimation later"
   ]
  },
  {
   "cell_type": "code",
   "execution_count": 29,
   "metadata": {},
   "outputs": [],
   "source": [
    "# %gui qt\n",
    "# import pyqtgraph as pg\n",
    "# #from PyQt4 import QtGui\n",
    "# from pyqtgraph.Qt import QtCore, QtGui\n",
    "# import numpy as np\n",
    "# def AnimationGT():\n",
    "#     win = pg.GraphicsWindow()\n",
    "#     win.setWindowTitle('pyqtgraph example: Scrolling Plots')\n",
    "\n",
    "\n",
    "#     # 1) Simplest approach -- update data in the array such that plot appears to scroll\n",
    "#     #    In these examples, the array size is fixed.\n",
    "#     p1 = win.addPlot()\n",
    "#     p2 = win.addPlot()\n",
    "#     x=np.linspace(0, 6 * np.pi)\n",
    "#     data1=np.sin(x)\n",
    "#     #data1=np.random.normal(1,1,10)\n",
    "#     curve1 = p1.plot(data1)\n",
    "#     curve2 = p2.plot(data1)\n",
    "#     ptr1 = 0\n",
    "#     def update1():\n",
    "#         global data1, curve1, ptr1\n",
    "#         data1[:-1] = data1[1:]  # shift data in the array one sample left\n",
    "#                                 # (see also: np.roll)\n",
    "#         data1[-1] = data1[0]# np.random.normal() \n",
    "#         curve1.setData(data1)\n",
    "\n",
    "#         ptr1 += 1\n",
    "#         curve2.setData(data1)\n",
    "#         curve2.setPos(ptr1, 0)\n",
    "\n",
    "#     # def update():\n",
    "#     #     update1()\n",
    "#     #     update2()\n",
    "#     #     update3()\n",
    "#     timer = pg.QtCore.QTimer()\n",
    "#     timer.timeout.connect(update1)\n",
    "#     timer.start(50)\n",
    "# AnimationGT()"
   ]
  },
  {
   "cell_type": "code",
   "execution_count": 30,
   "metadata": {},
   "outputs": [],
   "source": [
    "#%matplotlib notebook\n",
    "#import matplotlib.animation\n",
    "#def AnimationCreator():\n"
   ]
  },
  {
   "cell_type": "markdown",
   "metadata": {},
   "source": [
    "### Here we begin the user interface (UI) part using *widgets* :)"
   ]
  },
  {
   "cell_type": "code",
   "execution_count": null,
   "metadata": {},
   "outputs": [],
   "source": []
  },
  {
   "cell_type": "code",
   "execution_count": 32,
   "metadata": {},
   "outputs": [],
   "source": [
    "# %%capture\n",
    "# from matplotlib import pyplot as plt\n",
    "# %matplotlib notebook\n",
    "# # calling it a second time may prevent some graphics errors\n",
    "# %matplotlib notebook\n",
    "# fig, [ax1, ax2] = plt.subplots(nrows=1, ncols=2)\n",
    "# fig.set_size_inches(11.5, 4.5)\n",
    "# fig2, ax3 = plt.subplots(nrows=1,ncols=1)\n",
    "# fig2.set_size_inches(10.5, 1.1)\n",
    "\n",
    "\n",
    "# def update(*rgs):\n",
    "#     #global MyInteraction.children.step\n",
    "#     if (M1!=M2)&(bc==0)&(N%2==1):\n",
    "#         #MyInteraction.children[0].step=2\n",
    "#         #N=N+1\n",
    "#         print(\"It happened\")\n",
    "#     else:\n",
    "#     #    MyInteraction.children[0].step=1\n",
    "#         #Nreal.value=N\n",
    "#         print(\"Did not\")\n",
    "#     A = CreateForceMatrix(N)\n",
    "#     A = ForceMatrixBoundaryCond(A, bc, N)\n",
    "#     B = CreateMassMatrix(N, M1, M2, Nimp, Mimp, imp_enabled)\n",
    "#     omega, V, Nmodes = EigenEq(A, B, C, bc, N)\n",
    "#     Ka, Karg = FourierTransform(bc, V, N, Nmodes)\n",
    "#     V, omega, Ka = CorrectOmega(Ka, Karg, Nmodes, V, omega, bc, M1, M2, N)\n",
    "#     V = CorrectAmplitude(V, omega, C, N)\n",
    "#     # print(omega)\n",
    "#     # print(Ka)\n",
    "#     # ax.plot(Ka,omega,'bo',label=['simulation']);\n",
    "#     # fig\n",
    "#     PlotDisp(C, M1, M2, omega, Ka, ax1)\n",
    "#     PlotEigenmode(V, ModeNr-1, M1, M2, ax2, imp_enabled, Mimp, Nimp)\n",
    "    \n",
    "\n",
    "# MyInteraction=interactive(update, N=(2, 50, 1), C=(0.2, 10, 0.2), bc=[('periodic', 0),('fixed ends', 1), ('open ends', 2)],\n",
    "#                           M1=(0.1, 5, 0.1), M2=(0.1, 5, 0.1), imp_enabled=[('impurity disabled', 0), ('impurity enabled', 1)],\n",
    "#                           Nimp=(1, 10, 1), Mimp=(0.1, 5, 0.1),ModeNr=(1, 5, 1))\n",
    "# #Nreal=widgets.IntSlider(value=10,min=0, max=50, step=1)\n",
    "# #l=widgets.jslink((MyInteraction.children[0],\"value\"),(Nreal,\"value\"))\n",
    "# NInter=widgets.IntSlider(\n",
    "#      value=10, description=\"number of atoms\", min=2, max=500, step=1)\n",
    "# CInter=widgets.IntSlider(\n",
    "#      value=10, description=\"C ($\\gamma$ in the book)\", min=2, max=500)\n",
    "# bcInter=widgets.IntSlider(\n",
    "#      value=10, description=\"boundary condition\", min=2, max=500)\n",
    "# M1Inter=widgets.IntSlider(\n",
    "#      value=10, description=\"number of atoms\", min=2, max=500)\n",
    "# M2Inter=widgets.IntSlider(\n",
    "#      value=10, description=\"number of atoms\", min=2, max=500)\n",
    "# imp_enabledInter=widgets.IntSlider(\n",
    "#      value=10, description=\"number of atoms\", min=2, max=500)\n",
    "# NimpInter=widgets.IntSlider(\n",
    "#      value=10, description=\"number of atoms\", min=2, max=500)\n",
    "# MimpInter=widgets.IntSlider(\n",
    "#      value=10, description=\"number of atoms\", min=2, max=500)\n",
    "# ModeNrInter=widgets.IntSlider(\n",
    "#      value=10, description=\"Mode Number\", min=2, max=500)\n",
    "\n",
    "# NInter.observe(update, \"value\")\n"
   ]
  },
  {
   "cell_type": "markdown",
   "metadata": {},
   "source": [
    "Import some missing libraries and define a function which will calculate $\\omega$ and $K_a$ (do everything above) every time some of the main input widgets will be changed. Function *interactive* also defines these widgets."
   ]
  },
  {
   "cell_type": "code",
   "execution_count": 33,
   "metadata": {},
   "outputs": [],
   "source": [
    "from ipywidgets import Label, HBox, Layout"
   ]
  },
  {
   "cell_type": "code",
   "execution_count": null,
   "metadata": {},
   "outputs": [],
   "source": []
  },
  {
   "cell_type": "markdown",
   "metadata": {},
   "source": [
    "Before the definition of the function we also define plots which will be called later. For some buggy reason, the *matplotlib* has to be imported and \"*%matplotlib notebook*\" has to be called again"
   ]
  },
  {
   "cell_type": "code",
   "execution_count": null,
   "metadata": {},
   "outputs": [],
   "source": [
    "%%capture\n",
    "from matplotlib import pyplot as plt\n",
    "%matplotlib notebook\n",
    "# calling it a second time may prevent some graphics errors\n",
    "%matplotlib notebook\n",
    "fig, [ax1, ax2] = plt.subplots(nrows=1, ncols=2)\n",
    "fig.set_size_inches(11.5, 4.5)\n",
    "fig2, ax3 = plt.subplots(nrows=1,ncols=1)\n",
    "fig2.set_size_inches(10.5, 1.1)"
   ]
  },
  {
   "cell_type": "code",
   "execution_count": 139,
   "metadata": {},
   "outputs": [],
   "source": [
    "def update(N=10, C=1, bc=0, M1=1, M2=1, imp_enabled=0, Nimp=3, Mimp=1, ModeNr=0):\n",
    "    #global MyInteraction.children.step\n",
    "    #if (M1!=M2)&(bc==0)&(N%2==1):\n",
    "        #MyInteraction.children[0].step=2\n",
    "        #N=N+1\n",
    "    #    print(\"It happened\")\n",
    "    #else:\n",
    "    #    MyInteraction.children[0].step=1\n",
    "        #Nreal.value=N\n",
    "    #    print(\"Did not\")\n",
    "    A = CreateForceMatrix(N)\n",
    "    A = ForceMatrixBoundaryCond(A, bc, N)\n",
    "    B = CreateMassMatrix(N, M1, M2, Nimp, Mimp, imp_enabled)\n",
    "    omega, V, Nmodes = EigenEq(A, B, C, bc, N)\n",
    "    Ka, Karg = FourierTransform(bc, V, N, Nmodes)\n",
    "    V, omega, Ka = CorrectOmega(Ka, Karg, Nmodes, V, omega, bc, M1, M2, N)\n",
    "    V = CorrectAmplitude(V, omega, C, N)\n",
    "    # ax.plot(Ka,omega,'bo',label=['simulation']);\n",
    "    # fig\n",
    "    PlotDisp(C, M1, M2, omega, Ka, ax1)\n",
    "    PlotEigenmode(V, ModeNr-1, M1, M2, ax2, imp_enabled, Mimp, Nimp)\n",
    "    return Ka[ModeNr-1], omega[ModeNr-1]\n",
    "#\n",
    "MyInteraction=interactive(update, N=(2, 200, 1), C=(0.2, 10, 0.2), bc=[('periodic', 0),('fixed ends', 1), ('open ends', 2)],\n",
    "                          M1=(0.1, 5, 0.1), M2=(0.1, 5, 0.1), imp_enabled=[('impurity disabled', 0), ('impurity enabled', 1)],\n",
    "                          Nimp=(1, 10, 1), Mimp=(0.1, 5, 0.1),ModeNr=(1, 5, 1))\n",
    "#Nreal=widgets.IntSlider(value=10,min=0, max=50, step=1)\n",
    "#l=widgets.jslink((MyInteraction.children[0],\"value\"),(Nreal,\"value\"))"
   ]
  },
  {
   "cell_type": "markdown",
   "metadata": {},
   "source": [
    "I agree that the bellow is not the prettiest way of doing it but I am not really a  programmer and just learning about widgets. :D So, first we get acces to all widgets in MyInteraction so that it would be more starightforward doing it. Also, delete names (*.description*) of each widget because otherwise it will appear when we print it using *HBox* later. The output looks nicer if the name is defined at *HBox*."
   ]
  },
  {
   "cell_type": "code",
   "execution_count": 157,
   "metadata": {},
   "outputs": [],
   "source": [
    "for widg in MyInteraction.children[:-1]:\n",
    "    widg.description=\"\"\n",
    "    widg.continuous_update=False\n",
    "    #widg.style=style\n",
    "NInter=MyInteraction.children[0]\n",
    "CInter=MyInteraction.children[1]\n",
    "bcInter=MyInteraction.children[2]\n",
    "M1Inter=MyInteraction.children[3]\n",
    "M2Inter=MyInteraction.children[4]\n",
    "imp_enabledInter=MyInteraction.children[5]\n",
    "NimpInter=MyInteraction.children[6]\n",
    "MimpInter=MyInteraction.children[7]\n",
    "ModeNrInter=MyInteraction.children[8]\n",
    "\n",
    "#Change sizes of the two boxes otherwise it is too large\n",
    "bcInter.layout=Layout(width='80px')\n",
    "imp_enabledInter.layout=Layout(width='130px')"
   ]
  },
  {
   "cell_type": "markdown",
   "metadata": {},
   "source": [
    "Here define a widget that will print out the chosen value of $K_a$ and corresponding $\\omega$"
   ]
  },
  {
   "cell_type": "code",
   "execution_count": 156,
   "metadata": {},
   "outputs": [],
   "source": [
    "### Define printing omega and Ka values\n",
    "OmegaPrint=\"Frequency \\( \\omega\\) is <b>{}</b> a.u\"\n",
    "Kprint= \"<br> Wave vector \\( K_a \\) is <b>{}</b> a.u\"         \n",
    "PrintValue=widgets.HTMLMath(\n",
    "    value='',\n",
    "    #value=OmegaPrint.format(np.round(MyInteraction.result[1],3))+Kprint.format(np.round(MyInteraction.result[0],2)),\n",
    "    placeholder='Some HTML',\n",
    "    #description='Some HTML'\n",
    ")\n",
    "def updateHTML(*args):\n",
    "    PrintValue.value=OmegaPrint.format(np.round(MyInteraction.result[1],3))+Kprint.format(np.round(MyInteraction.result[0],2))\n",
    "\n",
    "for widg in MyInteraction.children:\n",
    "    widg.observe(updateHTML, 'value')\n",
    "    \n"
   ]
  },
  {
   "cell_type": "markdown",
   "metadata": {},
   "source": [
    "#### Defining additional widgets and functions\n",
    "First we define a bottom that will make the two masses equal when we press it"
   ]
  },
  {
   "cell_type": "code",
   "execution_count": 115,
   "metadata": {},
   "outputs": [],
   "source": [
    "MassEqualBtn = widgets.Button(description='Equalize Masses')\n",
    "def equalize_Masses(btn_object):\n",
    "    M2Inter.value = M1Inter.value\n",
    "MassEqualBtn.on_click(equalize_Masses)"
   ]
  },
  {
   "cell_type": "markdown",
   "metadata": {},
   "source": [
    "Take care that when we have fixed ends, the mode number is N-2\n",
    "Afterwards, when we have different basses and periodic boundary conditions, N must be even"
   ]
  },
  {
   "cell_type": "code",
   "execution_count": 113,
   "metadata": {},
   "outputs": [
    {
     "data": {
      "text/plain": [
       "[<matplotlib.lines.Line2D at 0x215a70b6ba8>]"
      ]
     },
     "execution_count": 113,
     "metadata": {},
     "output_type": "execute_result"
    },
    {
     "data": {
      "text/plain": [
       "Link(source=(Play(value=50, description='Press play', interval=10), 'value'), target=(IntSlider(value=0), 'val…"
      ]
     },
     "metadata": {},
     "output_type": "display_data"
    }
   ],
   "source": [
    "def updateMaxValues(*args):\n",
    "    if bcInter.value==1:\n",
    "        ModeNrInter.max=NInter.value-2\n",
    "    else:\n",
    "        ModeNrInter.max=NInter.value\n",
    "    NimpInter.max=NInter.value\n",
    "    \n",
    "NInter.observe(updateMaxValues, 'value')\n",
    "bcInter.observe(updateMaxValues, 'value')\n",
    "\n",
    "def updateNstep(*args):\n",
    "    if (M1Inter.value!=M2Inter.value)&(bcInter.value==0):\n",
    "        NInter.step=2\n",
    "        NInter.value = NInter.value+1 if NInter.value%2 else NInter.value\n",
    "    else:\n",
    "        NInter.step=1\n",
    "\n",
    "M1Inter.observe(updateNstep, 'value')\n",
    "M2Inter.observe(updateNstep, 'value')\n",
    "bcInter.observe(updateNstep, 'value')\n",
    "    \n",
    "#l=widgets.jslink((MyInteraction.children[0],\"value\"),(Nreal,\"value\"))\n",
    "play = widgets.Play(\n",
    "     interval=10,\n",
    "    value=50,\n",
    "    min=0,\n",
    "    max=100,\n",
    "    step=1,\n",
    "    description=\"Press play\",\n",
    "    disabled=False\n",
    ")\n",
    "def MakeAnim(change):\n",
    "    global x\n",
    "    global ax3\n",
    "    w=change[\"new\"]\n",
    "    ax3.cla()\n",
    "    ax3.plot(x,w*np.sin(w * x*0.005))\n",
    "\n",
    "x = np.linspace(0, 2 * np.pi)\n",
    "ax3.plot(x, np.sin(x))\n",
    "slider = widgets.IntSlider()\n",
    "widgets.jslink((play, 'value'), (slider, 'value'))\n",
    "play.observe(MakeAnim, 'value')"
   ]
  },
  {
   "cell_type": "markdown",
   "metadata": {
    "scrolled": true
   },
   "source": [
    "Define all of the outputs"
   ]
  },
  {
   "cell_type": "code",
   "execution_count": 91,
   "metadata": {
    "scrolled": true
   },
   "outputs": [],
   "source": [
    "FirstBox=widgets.HBox([Label('N of atoms'),NInter,Label('C ($\\gamma$ in the book)'),CInter,Label('boundary cond.'), bcInter])\n",
    "Player=widgets.HBox([play, slider])\n",
    "Masses=widgets.HBox([Label('Mass 1 $M_1$'),M1Inter,Label('Mass 2, $M_2$'), M2Inter, MassEqualBtn])\n",
    "ImpurityBox=widgets.HBox([imp_enabledInter,Label('Mass of imp.'),MimpInter,Label('Atom nr. of imp.'), NimpInter])\n",
    "ModeNrInterBox=widgets.HBox([Label('Mode number'),ModeNrInter, PrintValue])\n",
    "Impurity = widgets.Accordion(children=[Masses,ImpurityBox])\n",
    "Impurity.set_title(0,'Masses') \n",
    "Impurity.set_title(1, 'Impurity')\n",
    "#PrintBox=HBox(PrintValue)\n",
    "# fig2, axAnim = plt.subplots();\n",
    "# l, = axAnim.plot([0,2*np.pi],[-1,1])\n",
    "# animate = lambda i: l.set_data(t[:i], x[:i])\n",
    "# ani = matplotlib.animation.FuncAnimation(fig, animate, frames=len(t))\n",
    "#fig\n",
    "# display(MyInteraction)\n",
    "# #fig2.show()\n",
    "# fig2\n",
    "# display(Player)\n",
    "#widgets.Box([PrintValue])\n",
    "#fig.show()"
   ]
  },
  {
   "cell_type": "code",
   "execution_count": 38,
   "metadata": {},
   "outputs": [],
   "source": [
    "# fig, ax3=plt.subplots(1,1)\n",
    "# play = widgets.Play(\n",
    "#      interval=10,\n",
    "#     value=50,\n",
    "#     min=0,\n",
    "#     max=100,\n",
    "#     step=1,\n",
    "#     description=\"Press play\",\n",
    "#     disabled=False,continuous_update=True\n",
    "# )\n",
    "\n",
    "# def MakeAnim(change):\n",
    "#     global x\n",
    "#     global ax3\n",
    "#     w=change[\"new\"]\n",
    "#     ax3.cla()\n",
    "#     ax3.plot(x,w*np.sin(w * x*0.005))\n",
    "\n",
    "# x = np.linspace(0, 2 * np.pi)\n",
    "# ax3.plot(x, np.sin(x))\n",
    "\n",
    "# slider = widgets.IntSlider(continuous_update=True)\n",
    "# widgets.jslink((play, 'value'), (slider, 'value'))\n",
    "# AnimationFtion()\n",
    "# play.observe(MakeAnim, 'value')\n",
    "# widgets.HBox([play, slider])"
   ]
  },
  {
   "cell_type": "code",
   "execution_count": 138,
   "metadata": {},
   "outputs": [],
   "source": [
    "#display(MyInteraction.children[-1])"
   ]
  },
  {
   "cell_type": "code",
   "execution_count": 40,
   "metadata": {},
   "outputs": [],
   "source": [
    "# def update(N=10,M1=1, M2=1):\n",
    "#     if (M1!=M2) & (N%2==1):\n",
    "#         Nreal.value=N+1\n",
    "#         print(\"N value automatically changed\")\n",
    "\n",
    "# MyInteraction=interactive(update, N=(2, 50, 1), M1=(0.1, 5, 0.1), M2=(0.1, 5, 0.1), Mimp=(0.1, 5, 0.1))\n",
    "# Nreal=widgets.IntSlider(value=3,min=0, max=50, step=1,)\n",
    "# l=widgets.link((MyInteraction.children[0],\"value\"),(Nreal,\"value\"))\n",
    "# display(play)\n",
    "# display(MyInteraction)"
   ]
  },
  {
   "cell_type": "code",
   "execution_count": 41,
   "metadata": {},
   "outputs": [],
   "source": [
    "# A=CreateForceMatrix(N)\n",
    "# A = ForceMatrixBoundaryCond(A, bc, N)\n",
    "# B = CreateMassMatrix(N, M1, M2, Nimp, Mimp)\n",
    "# omega, V, Nmodes = EigenEq(A, B, C, bc, N)\n",
    "# Ka, Karg = FourierTransform(bc,V, N, Nmodes)\n",
    "# V,omega, Ka=CorrectOmega(Ka, Karg, Nmodes, V, omega, bc, M1, M2, N)\n",
    "# A,V=CorrectAmplitude(V,omega,C,N)\n",
    "# fig, ax = plt.subplots();\n",
    "# ax.plot(Ka,omega,'bo',label=['simulation']);\n",
    "# #fig\n",
    "# #Analytic(C,M1,M2)\n",
    "# #fig\n",
    "# #plt.plot(V[:,])\n",
    "# #plt.plot(omega)\n",
    "# #plt.plot(Ka)\n",
    "# print(bc)"
   ]
  },
  {
   "cell_type": "code",
   "execution_count": 44,
   "metadata": {},
   "outputs": [],
   "source": [
    "\n",
    "#ModeNrInter.max"
   ]
  },
  {
   "cell_type": "code",
   "execution_count": null,
   "metadata": {},
   "outputs": [],
   "source": []
  },
  {
   "cell_type": "code",
   "execution_count": null,
   "metadata": {},
   "outputs": [],
   "source": []
  }
 ],
 "metadata": {
  "kernelspec": {
   "display_name": "Python 3",
   "language": "python",
   "name": "python3"
  },
  "language_info": {
   "codemirror_mode": {
    "name": "ipython",
    "version": 3
   },
   "file_extension": ".py",
   "mimetype": "text/x-python",
   "name": "python",
   "nbconvert_exporter": "python",
   "pygments_lexer": "ipython3",
   "version": "3.6.9"
  },
  "varInspector": {
   "cols": {
    "lenName": 16,
    "lenType": 16,
    "lenVar": 40
   },
   "kernels_config": {
    "python": {
     "delete_cmd_postfix": "",
     "delete_cmd_prefix": "del ",
     "library": "var_list.py",
     "varRefreshCmd": "print(var_dic_list())"
    },
    "r": {
     "delete_cmd_postfix": ") ",
     "delete_cmd_prefix": "rm(",
     "library": "var_list.r",
     "varRefreshCmd": "cat(var_dic_list()) "
    }
   },
   "position": {
    "height": "253px",
    "left": "996px",
    "right": "20px",
    "top": "120px",
    "width": "350px"
   },
   "types_to_exclude": [
    "module",
    "function",
    "builtin_function_or_method",
    "instance",
    "_Feature"
   ],
   "window_display": false
  }
 },
 "nbformat": 4,
 "nbformat_minor": 2
}
